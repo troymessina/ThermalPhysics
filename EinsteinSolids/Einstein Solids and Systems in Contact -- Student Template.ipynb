{
 "cells": [
  {
   "cell_type": "markdown",
   "metadata": {},
   "source": [
    "# Statistical Mechanics in Einstein solids and Systems in Contact\n",
    "---\n",
    "\n",
    "In this activity, you will build a statistical model of two interacting \"Einstein\" solids (let's call them \"solid A\" and \"solid B\") and show that this system has many of the same qualitative attributes that we associate with **thermodynamic equilibrium** and furthermore that the **statistical multiplicity** has many of the same attributes that we normally associatee with **classical entropy**.\n",
    "\n",
    "The Einstein model of a Solid is an extension of the \"ball-and-spring model\" of a solid in which atoms are represented as spheres with spring-like chemical bonds holding them together in the x, y, and z directions:\n",
    "\n",
    "https://www.glowscript.org/#/user/matterandinteractions/folder/matterandinteractions/program/04-ball-and-spring-model\n",
    "\n",
    "The Einstein model further specifies that the energy content of the ball-and-spring model is quantized.\n",
    "\n",
    "https://www.glowscript.org/#/user/matterandinteractions/folder/matterandinteractions/program/12-wells-oscillator\n",
    "\n",
    "You are encouraged to use your two-state computational model as a framework to model this this new system, but you shouldn't have much difficulty building this model from scratch. Ultimately, your program should output a plot of the number of **microstates** for each possible **macro-state**. The broad structure for your program should be:\n",
    "\n",
    "* Define a set of **macro-states**; Imagine starting with all of the quanta in solid A and then one-by-one shifting individual quanta into solid B. \n",
    "* Calculate the multiplicity associated with a single macrostate\n",
    "* Iterate this calculation over each macrostate, and\n",
    "* Output and plot the results.\n",
    "\n",
    "This model differs from the 2-state system in a few key ways:\n",
    "\n",
    "* The combinatoric formula for Einstein solids is different than the formula for a 2-state system\n",
    "* You’ll have to compute the combined multiplicity for two objects instead of for just one\n",
    "* You’ll have to make use of either \n",
    " 1. an iterative loop or\n",
    " 2. more sophisticated techniques like vectorization (including using methods); your choice!\n",
    " \n",
    "At this point, your model should serve as a plausibility argument: it should reproduce some of the features we observe from classical thermodynamics. In the following activity, you will use your model to generate *testable* predictions of heat capacity. "
   ]
  },
  {
   "cell_type": "markdown",
   "metadata": {},
   "source": [
    "---\n",
    "## Exercise 1: A test case\n",
    "---\n",
    "\n",
    "Let’s first consider a test case that we can easily solve with pen-and-paper against which we can compare our computational solution---**two 1-atom Einstein solids (let's call them \"A\" and \"B\") that are in contact and sharing 8 quanta of energy**. This is, of course, an artificial example, but once we are able to use the computer to recreate this result, we can expand that algorithm to other more physically meaningful situations.\n",
    "\n",
    "#### Answer the following questions:\n",
    "\n",
    "1.  Explicitly list all possible ways that these atoms can share 8 quanta of energy (e.g. A has 3 quanta and B has 5...). These are the system's **macrostates**. \n",
    "\n",
    "2.  How many oscillators does each solid have?\n",
    "\n",
    "Recall the combinatoric formula for an Einstein solid:\n",
    "$$\n",
    "\\Omega(N,q) = \\dfrac{(q + N-1)!}{(N-1)!q!},\n",
    "$$\n",
    "where $N$ is the number of oscillators in the solid and $q$ is the number of energy quanta. \n",
    "\n",
    "3. For each division of energy you listed above, calculate:\n",
    "\n",
    " * the number of ways that an amount of energy, $q_A$ can be in solid A, \n",
    " * the number of ways that an amount of energy $(q_\\text{total} - q_A)$ can be in solid B, and \n",
    " * The combined number of microstates for each division of energy.\n",
    "\n",
    "4. What is the total combined number of microstates? *(Hint: there are two ways to find this)*\n",
    "\n",
    "As in the case of a 2-state system, we can apeal to the **fundamental assumption of statistical mechanics**:*All microstates are equally likely to occur.*   \n",
    "\n",
    "5. What are the odds that you would find 3 quanta of energy in solid A and 5 quanta in solid B?"
   ]
  },
  {
   "cell_type": "markdown",
   "metadata": {},
   "source": [
    "**Your solution here**"
   ]
  },
  {
   "cell_type": "markdown",
   "metadata": {},
   "source": [
    "---\n",
    "## Exercise 2: Setting up the program\n",
    "---\n",
    "\n",
    "**Import libraries and set up model parameters**\n",
    "\n",
    "If you are reusing old code, “2-state systems: the story of the Purple pandas” is a good place to start. Otherwise, begin by loading libraries for performing combinatorics, generating graphs, and manipulating arrays of numbers."
   ]
  },
  {
   "cell_type": "code",
   "execution_count": null,
   "metadata": {},
   "outputs": [],
   "source": [
    "import numpy as np\n",
    "import matplotlib.pyplot as plt\n",
    "import scipy.special as sp"
   ]
  },
  {
   "cell_type": "markdown",
   "metadata": {},
   "source": [
    "As with the test case, let's start by modeling two 1-atom Einstein solids that are in contact and sharing 8 quanta of energy between them.\n",
    "\n",
    "In the code below, set values for ``N_A``, ``N_B`` and ``q_total`` according to the test model above (two 1-atom Einstein solids sharing 8 quanta of energy between them)."
   ]
  },
  {
   "cell_type": "code",
   "execution_count": null,
   "metadata": {},
   "outputs": [],
   "source": [
    "#Parameters "
   ]
  },
  {
   "cell_type": "markdown",
   "metadata": {},
   "source": [
    "**Plan your program**\n",
    "\n",
    "Before moving on, plan out your program writing pseudo-code for what you want it to do. (This is somewhat like programming's version of creating an outline; focus on the structure of the program and not on syntactic details). You should focus on 3 related questions:\n",
    "\n",
    "* What variables will you need to use in your program and what kind of programming objects are they (e.g., integers, lists, arrays, etc.).\n",
    "* How will these objects be constructed within the program? (will they be user-defined? will they need to be iteratively build within the program?)\n",
    "* How will these objects be used later in the program? Will any of them need to be updated in an iterative loop? Will you be performing math on them? Will any of these objects need to be used to build another?"
   ]
  },
  {
   "cell_type": "markdown",
   "metadata": {},
   "source": [
    "---\n",
    "## Exercise 3: Building the Model\n",
    "---\n",
    "\n",
    "We would like to calculate the multiplicity of the combined system as a function of the number of quanta in solid A. \n",
    "\n",
    "**Write an algorithm that will do the following**:\n",
    "* Generate a list (or array) of every possible value of $q_\\text{A}$. (How many elements should be in this list/array?) These will be your **macrostates**.\n",
    "* Do the same for every value of $q_\\text{B}$ (don't forget that $q_\\text{B} = q_\\text{total} - q_\\text{A}$).\n",
    "* Calculate the multiplicity of microstates in solid A for *each* value of $q_\\text{A}$.  Do this again for solid B. Both of these should be in the form of a list or array.\n",
    "* Calculate the combined multiplicity for each distribution of energy. Your algorithm should output this as a list/array"
   ]
  },
  {
   "cell_type": "code",
   "execution_count": null,
   "metadata": {},
   "outputs": [],
   "source": [
    "#Your code here\n",
    "\n",
    "#Setting up the Macrostates\n",
    "\n",
    "#Calculating the Microstates"
   ]
  },
  {
   "cell_type": "markdown",
   "metadata": {},
   "source": [
    "**!!! Before moving on, make sure that your code is reproducing the same numbes you calculated in Exercise 1: A Test Case. Be sure to also chesk these data are lists/arrays; this is a good opportunity to check with your instructor or LA if you are stuck**."
   ]
  },
  {
   "cell_type": "markdown",
   "metadata": {},
   "source": [
    " **Create a plot of the combined multiplicity, $\\Omega_\\text{combined}$, vs. $q_A$**\n",
    "\n",
    "Use the ``plt.bar`` function to create a bar graph. (for documentation, type ``help(plt.bar)``). Don't forget that this function requires you to input arrays of equal length (or equal length slices of larger arrays) so pay attention to the size of your $\\Omega_\\text{combined}$ and $q_A$ arrays. Be sure to include a title, axis labels, etc. "
   ]
  },
  {
   "cell_type": "code",
   "execution_count": null,
   "metadata": {},
   "outputs": [],
   "source": [
    "#Plotting the total multiplicity\n",
    "\n",
    "#Add appropriate titles and labels\n",
    "plt.xlabel('')\n",
    "plt.ylabel('')\n",
    "plt.title('')\n",
    "plt.legend() #Leave this as is\n",
    "plt.show() #Leave this as is"
   ]
  },
  {
   "cell_type": "markdown",
   "metadata": {},
   "source": [
    "**Answer the following questions**\n",
    "\n",
    "6. Briefly describe (to the best of your understanding) some of the qualities of **macroscopic thermal equilibrium**. \n",
    "7. The macrostate $(q_\\text{A} = 4,q_\\text{B} = 4)$ has two interesting qualities:\n",
    " * Energy is equally split between the two solids and\n",
    " * Compared with the other macrostates, this macrostate has the largest number of corresponding micro-states (i.e. the largest multiplicity)\n",
    " \n",
    " Argue for why we should expect each of these statistical descriptions to plausibly correspond to our understanding of macroscopic thermodynamic equilibrium. Are there any aspects of macroscopic thermal equilibrium that is *not* captured by these two qualities?"
   ]
  },
  {
   "cell_type": "markdown",
   "metadata": {},
   "source": [
    "**Double-click here to type your answer**"
   ]
  },
  {
   "cell_type": "markdown",
   "metadata": {},
   "source": [
    "---\n",
    "## Exercise 4: Adapting your Model\n",
    "---\n",
    "\n",
    "Once you are able to reproduce the results you calculated algebraically and produce a nice plot, you should be able to easily alter your program to model other situations.\n",
    "\n",
    "**Adapt your code to do the following:**\n",
    "* Model two Einstein solids in contact; one with 30 oscillators and one with 50, sharing 80 quanta between them. Plot the combined multiplicity. \n",
    "* Insert code to print out the macrostate (or value of $q_\\text{A}$) that has the highest multiplicity and print out this multiplicity.\n",
    "* Insert code to print out the total number of microstates. "
   ]
  },
  {
   "cell_type": "code",
   "execution_count": null,
   "metadata": {
    "scrolled": true
   },
   "outputs": [],
   "source": [
    "#Your code here"
   ]
  },
  {
   "cell_type": "code",
   "execution_count": null,
   "metadata": {},
   "outputs": [],
   "source": [
    "#Your code here "
   ]
  },
  {
   "cell_type": "markdown",
   "metadata": {},
   "source": [
    "**Double-click here to type your answer**\n",
    "\n",
    "8. In this new situation, the macrostate with the highest multiplicity no longer features a 50-50 division of energy between the two solids; To what does this particular split seem to correspond? Explain whether or not it still makes sense to associate this uneven division of energy with macroscopic equilibrium. Can you use this to come up with a plausible description for what \"statistical equilibrium\" is in terms of energy distributions?\n",
    "\n",
    "9. You might have balked at the artificiality of modeling single atoms as solids and, even worse, modeling those atoms as if they can oscillate against neighboring atoms. But even the $N=30$ and $N=50$ solids from Exercise 3 have the problem that a large fraction of the atoms are edge-cases that are missing some neighboring bonds. \n",
    "\n",
    " Argue for why, in the limit of macroscopic materials ($N\\approx 10^{23}$), these edge-cases produce a negligible divergence from the overall behavior predicted by the Einstein-Solid model. Can you brainstorm other limitations of this model that we might want to take into account in more sophisticated models?\n",
    "\n",
    "10. The plot from your original model ($N_A = N_B = 3$; $q_\\text{total} = 8$) was fairly broad compared to the new plot suggesting the possibility of larger fluctuations about the maximal value. Estimate the standard deviation for $q_A$ as a fraction of $q_\\text{total}$ for this new situation and then recreate the plot from the original test situation and estimate the standard deviation for that too. One way to do this is to estimate the half-width at half the maximum height as a fraction of the total range but you can also calculate the standard deviations with a bit of extra code:\n",
    "$$\n",
    "\\begin{align}\n",
    "\\text{stdev}(q) &= \\sqrt{\\langle q^2\\rangle - \\langle q\\rangle^2}\\\\\n",
    "\\langle q\\rangle &= \\sum_{q=0}^{q_\\text{total}}q\\Omega_\\text{combined}\\\\\n",
    "\\langle q^2\\rangle &= \\sum_{q=0}^{q_\\text{total}}q^2\\Omega_\\text{combined}\n",
    "\\end{align}\n",
    "$$\n",
    "\n",
    " Qualitatively, what effect does increasing the values of $q_\\text{total}$, $N_A$, and $N_B$ have on the standard deviation as a percent of the total range? What impact do you think that this has on fluctuations about the maximal value? What do you think would happen to the spread and to the system's fluctuations if $N_A$, $N_B$, and $q_\\text{total}$ were on the order of $10^{23}$ (but don't actually put these large numbers into your program)? What do you think this says about the odds of finding a system far from equilibrium?"
   ]
  },
  {
   "cell_type": "markdown",
   "metadata": {},
   "source": [
    "**Double-click here to type your answer**"
   ]
  },
  {
   "cell_type": "code",
   "execution_count": null,
   "metadata": {},
   "outputs": [],
   "source": [
    "#Your code here"
   ]
  },
  {
   "cell_type": "markdown",
   "metadata": {},
   "source": [
    "---\n",
    "## Exericse 5: Statistical Entropy\n",
    "---\n",
    "\n",
    "#### Create a plot of ln($\\Omega$) vs. $q_A$\n",
    "\n",
    "It is sometimes useful to plot the **logarithm** of the three multiplicities (multiplicity of A, multiplicity of B, combined multiplicity); Do this. Be sure to include a title, axes labels, etc. "
   ]
  },
  {
   "cell_type": "code",
   "execution_count": null,
   "metadata": {},
   "outputs": [],
   "source": [
    "# Semilog plots of multiplicity\n",
    "\n",
    "# Insert appropriate labels\n",
    "plt.xlabel('')\n",
    "plt.ylabel('')\n",
    "plt.title('')\n",
    "plt.legend() #Leave this as is\n",
    "plt.show() #Leave this as is"
   ]
  },
  {
   "cell_type": "markdown",
   "metadata": {},
   "source": [
    "**Answer the following questions**\n",
    "\n",
    "11. What is the significance of where the combined graph ($\\ln \\Omega_A +\\ln \\Omega_B$) reaches it's peak? How do the slopes of the other two plots ($\\ln \\Omega_A$ and $\\ln \\Omega_B$ respectively) compare to each other at this point?\n",
    "12. Consider one of the extreme macrostates---say $(q_A = q_\\text{total}, q_B = 0)$; Conceptually, which block would you expect to be hotter? How would you compare the inverses of the individual $\\ln \\Omega$ slopes ($\\partial q/\\partial \\ln(\\Omega)$) in this state? Identify some of the ways taht the inverses slopes behave in the same way as macroscopic temperature and argue for why it seems reasonable to associate temperature with this inverse slope.\n",
    "13. Think of some of the properties that **classical entropy** has, especially with regards to thermodynamic equilibrium, and argue for why it seems reasonable to associate the classical entropy with this statistical measure $\\left(\\ln \\Omega_A +\\ln \\Omega_B\\right)$. (**Statistical entropy** is defined as $k_\\text{B}\\ln \\Omega$)\n",
    "14. Is the point where the plots of $\\ln \\Omega_A$ and $\\ln \\Omega_B$ cross significant at all?"
   ]
  },
  {
   "cell_type": "markdown",
   "metadata": {},
   "source": [
    "**Double-click here to type your answer**"
   ]
  }
 ],
 "metadata": {
  "kernelspec": {
   "display_name": "VPython",
   "language": "python",
   "name": "vpython"
  },
  "language_info": {
   "codemirror_mode": {
    "name": "ipython",
    "version": 2
   },
   "file_extension": ".py",
   "mimetype": "text/x-python",
   "name": "python",
   "nbconvert_exporter": "python",
   "pygments_lexer": "ipython2",
   "version": "2.7.16"
  }
 },
 "nbformat": 4,
 "nbformat_minor": 2
}
