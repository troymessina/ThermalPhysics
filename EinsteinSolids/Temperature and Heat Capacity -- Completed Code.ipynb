{
 "cells": [
  {
   "cell_type": "markdown",
   "metadata": {
    "id": "JHtuAT1zLwjG"
   },
   "source": [
    "# Temperature and Heat Capacity for Einstein Solids in Contact\n",
    "---\n",
    "\n",
    "Previously, you built a computational model to analyze two Einstein Solids in contact. With this model, you looked at how the ideas of thermal equilibrium and entropy can emerge from statistical combinatorics.\n",
    "\n",
    "In this activity, you will expand your previous analysis of Einstein solids in order to extend the idea of statistical equilibirum to include temperature. You will also compare your model of the heat capacity to empirical data.\n",
    "\n",
    "Broadly, your model should\n",
    "* Iterate over energy **macrostates**; Again, imagine starting with all of the quanta in solid A and then, one-by-one, shifting individual quanta into solid B.\n",
    "* Calculate the **multiplicity** and **entropy** for each macrostate (from the previous activity set)\n",
    "* Use macroscopic material properties (Young's Modulus) to estimate atomic properties (metalic bond strength, energy quanta)\n",
    "* Calculate thermodynamic quantities (**temperature** and **heat capacity**) derived from the multiplicity and the energy\n",
    "* Extract heat capacity data from an external file (attached to this activity) and plot those data against your model predictions."
   ]
  },
  {
   "cell_type": "markdown",
   "metadata": {
    "id": "Z5vQcBNGLwjL"
   },
   "source": [
    "## Exercise 1: Setting up the program\n",
    "---\n",
    "\n",
    "**Run the following code**\n",
    "\n",
    "Begin by importing the following libraries in order to manipulate arrays, use combinatorics, and plot."
   ]
  },
  {
   "cell_type": "code",
   "execution_count": 1,
   "metadata": {
    "executionInfo": {
     "elapsed": 190,
     "status": "ok",
     "timestamp": 1707420400451,
     "user": {
      "displayName": "Troy Messina",
      "userId": "08834187408513888437"
     },
     "user_tz": 300
    },
    "id": "LAuAXdk5LwjM",
    "tags": []
   },
   "outputs": [],
   "source": [
    "import numpy as np\n",
    "import matplotlib.pyplot as plt\n",
    "import scipy.special as sp"
   ]
  },
  {
   "cell_type": "markdown",
   "metadata": {
    "id": "arTVGtdMLwjN"
   },
   "source": [
    "We want to model two Einstein solids in contact; one with 150 oscillators and one with 351, sharing 100 energy quanta between them. Remember that each atom corresponds to 3 oscillators in the Einstein solid, so block A has 50 atoms and block B has 117 atoms.\n",
    "\n",
    "Run the following code to define fundamental constants and model parameters."
   ]
  },
  {
   "cell_type": "code",
   "execution_count": 2,
   "metadata": {
    "executionInfo": {
     "elapsed": 180,
     "status": "ok",
     "timestamp": 1707420402695,
     "user": {
      "displayName": "Troy Messina",
      "userId": "08834187408513888437"
     },
     "user_tz": 300
    },
    "id": "bXqaCLlWLwjO",
    "tags": []
   },
   "outputs": [],
   "source": [
    "#Fundamental Constants\n",
    "kB = 1.38e-23 #Boltzmann Constant [J/K]\n",
    "hbar = 1.05e-34 #Planck Reduced Constant [J*s]\n",
    "NA = 6.02e23 #Avogadro's Number [Atoms/Mole]\n",
    "\n",
    "# Model Parameters\n",
    "q_total = 100 #Total energy quanta\n",
    "N_A = 150 #Number of oscillators in block A\n",
    "N_B = 351 #Number of oscillators in block B"
   ]
  },
  {
   "cell_type": "markdown",
   "metadata": {
    "id": "MdwEQ4reLwjO"
   },
   "source": [
    "The next block of code is the basis for the previous activity \"Einstein Solids in Contact.\" After running this, take a few minutes to confirm that it will create an array of all macrostates and calculate the multiplicities of each macrostate. Again, the basis of the algorithm is to imagine moving energy from block A to block B one quanta at a time and, for each step, calculating the multiplicity. Output some of these variables to \"see\" what kinds of objects they are."
   ]
  },
  {
   "cell_type": "code",
   "execution_count": 3,
   "metadata": {
    "executionInfo": {
     "elapsed": 189,
     "status": "ok",
     "timestamp": 1707420404167,
     "user": {
      "displayName": "Troy Messina",
      "userId": "08834187408513888437"
     },
     "user_tz": 300
    },
    "id": "lfurTkrtLwjO",
    "tags": []
   },
   "outputs": [],
   "source": [
    "# Multiplicity Calculations\n",
    "q_A = np.array([q for q in range(q_total + 1)])\n",
    "q_B = q_total - q_A\n",
    "Ways_A = sp.comb(N_A + q_A - 1, q_A)\n",
    "Ways_B = sp.comb(N_B + q_B - 1, q_B)\n",
    "Ways_combined = Ways_A*Ways_B"
   ]
  },
  {
   "cell_type": "markdown",
   "metadata": {
    "id": "cc-0yNlgLwjP"
   },
   "source": [
    "Output some of these quantities to see what kinds of objects they are."
   ]
  },
  {
   "cell_type": "code",
   "execution_count": 4,
   "metadata": {
    "colab": {
     "base_uri": "https://localhost:8080/"
    },
    "executionInfo": {
     "elapsed": 186,
     "status": "ok",
     "timestamp": 1707420406882,
     "user": {
      "displayName": "Troy Messina",
      "userId": "08834187408513888437"
     },
     "user_tz": 300
    },
    "id": "7ax6tdhgLwjP",
    "outputId": "18fee312-370b-44e6-a065-c6d1d71b5043",
    "tags": []
   },
   "outputs": [
    {
     "data": {
      "text/plain": [
       "array([  0,   1,   2,   3,   4,   5,   6,   7,   8,   9,  10,  11,  12,\n",
       "        13,  14,  15,  16,  17,  18,  19,  20,  21,  22,  23,  24,  25,\n",
       "        26,  27,  28,  29,  30,  31,  32,  33,  34,  35,  36,  37,  38,\n",
       "        39,  40,  41,  42,  43,  44,  45,  46,  47,  48,  49,  50,  51,\n",
       "        52,  53,  54,  55,  56,  57,  58,  59,  60,  61,  62,  63,  64,\n",
       "        65,  66,  67,  68,  69,  70,  71,  72,  73,  74,  75,  76,  77,\n",
       "        78,  79,  80,  81,  82,  83,  84,  85,  86,  87,  88,  89,  90,\n",
       "        91,  92,  93,  94,  95,  96,  97,  98,  99, 100])"
      ]
     },
     "execution_count": 4,
     "metadata": {},
     "output_type": "execute_result"
    }
   ],
   "source": [
    "q_A"
   ]
  },
  {
   "cell_type": "code",
   "execution_count": 5,
   "metadata": {
    "colab": {
     "base_uri": "https://localhost:8080/"
    },
    "executionInfo": {
     "elapsed": 159,
     "status": "ok",
     "timestamp": 1707420434034,
     "user": {
      "displayName": "Troy Messina",
      "userId": "08834187408513888437"
     },
     "user_tz": 300
    },
    "id": "ITJ_wMuFLwjQ",
    "outputId": "51c1c252-cbd0-4dd7-c5ac-c57841834f19",
    "tags": []
   },
   "outputs": [
    {
     "data": {
      "text/plain": [
       "array([1.00000000e+00, 1.50000000e+02, 1.13250000e+04, 5.73800000e+05,\n",
       "       2.19478500e+07, 6.75993780e+08, 1.74631726e+10, 3.89179276e+11,\n",
       "       7.63764330e+12, 1.34083071e+14, 2.13192083e+15, 3.10097576e+16,\n",
       "       4.16047581e+17, 5.18459293e+18, 6.03634748e+19, 6.59973991e+20,\n",
       "       6.80598178e+21, 6.64584103e+22, 6.16586363e+23, 5.45192152e+24,\n",
       "       4.60687369e+25, 3.72937394e+26, 2.89874065e+27, 2.16775388e+28,\n",
       "       1.56258925e+29, 1.08756212e+30, 7.32012966e+30, 4.77164007e+31,\n",
       "       3.01635819e+32, 1.85141985e+33, 1.10468051e+34, 6.41427395e+34,\n",
       "       3.62807370e+35, 2.00093762e+36, 1.07697525e+37, 5.66181272e+37,\n",
       "       2.90954265e+38, 1.46263495e+39, 7.19770359e+39, 3.46966224e+40,\n",
       "       1.63941541e+41, 7.59729092e+41, 3.45495849e+42, 1.54267914e+43,\n",
       "       6.76675168e+43, 2.91722184e+44, 1.23664839e+45, 5.15708689e+45,\n",
       "       2.11655441e+46, 8.55260762e+46, 3.40393783e+47, 1.33487758e+48,\n",
       "       5.15981527e+48, 1.96657110e+49, 7.39285063e+49, 2.74207551e+50,\n",
       "       1.00379550e+51, 3.62775215e+51, 1.29473223e+52, 4.56447973e+52,\n",
       "       1.58996044e+53, 5.47363430e+53, 1.86280135e+54, 6.26847439e+54,\n",
       "       2.08622663e+55, 6.86849999e+55, 2.23746591e+56, 7.21332292e+56,\n",
       "       2.30189864e+57, 7.27266526e+57, 2.27530528e+58, 7.05024170e+58,\n",
       "       2.16403252e+59, 6.58103041e+59, 1.98320241e+60, 5.92316452e+60,\n",
       "       1.75356844e+61, 5.14683725e+61, 1.49786161e+62, 4.32294237e+62,\n",
       "       1.23744225e+63, 3.51372492e+63, 9.89842019e+63, 2.76678733e+64,\n",
       "       7.67454105e+64, 2.11275601e+65, 5.77322862e+65, 1.56607121e+66,\n",
       "       4.21771451e+66, 1.12788321e+67, 2.99515652e+67, 7.89931389e+67,\n",
       "       2.06927679e+68, 5.38456971e+68, 1.39196855e+69, 3.57516134e+69,\n",
       "       9.12410966e+69, 2.31394946e+70, 5.83209711e+70, 1.46096978e+71,\n",
       "       3.63781476e+71])"
      ]
     },
     "execution_count": 5,
     "metadata": {},
     "output_type": "execute_result"
    }
   ],
   "source": [
    "Ways_A"
   ]
  },
  {
   "cell_type": "markdown",
   "metadata": {
    "id": "lq0dPobHLwjQ"
   },
   "source": [
    "**Answer the following questions:**\n",
    "* Why is the iteration range ($q_\\text{total} + 1$) and not just $q_\\text{total}$?\n",
    "* What percentage of the total oscillators are in block A?\n",
    "* In (statistical) thermal equilibrium, how many energy quanta would you expect to be in block A? (i.e. what macrostate corresponds to the greatest multiplicity? Feel free to graph this).  "
   ]
  },
  {
   "cell_type": "markdown",
   "metadata": {
    "id": "85Jx2f-aLwjQ"
   },
   "source": [
    "**Your answer here.**\n",
    "\n",
    "The iteration range is $q_\\text{total} + 1$ because we need to take into account the $q=0$ case; if we used an iteration range of $q_\\text{total}$ then we would either lose the $q=0$ or $q=q_\\text{total}$ case, depending on how the code is set up.\n",
    "\n",
    "It looks like approximately 30% of the total oscillators are in block A (150/501)\n",
    "\n",
    "In statistical equilibrium, I would expect 30% of the quanta to be in block A."
   ]
  },
  {
   "cell_type": "markdown",
   "metadata": {
    "id": "xIIGO9l6LwjQ"
   },
   "source": [
    "## Exercise 2: Calculating temperature\n",
    "---\n",
    "The statistical definition of temperature is\n",
    "$$\n",
    "T = \\dfrac{\\Delta U}{\\Delta S}\n",
    "$$\n",
    "where this is regarded to be a ratio of finite differences. (This can be approximated as a derivative only in the limit of large systems with lots of energy quanta.)\n",
    "\n",
    "**We would like to calculate the temperature of each block as a function of the number of energy quanta in block A.** Given the code in Exercise 1 that generateed arrays of multiplicity values for both blocks as a function of the energy quanta in block A, **write code that will do the following:**\n",
    "\n",
    "1. Calculate an array of entropy values for each block. Don't forget that statistical entropy is defined as $S = k_\\text{B}\\ln W$\n",
    "2. Create an array of $\\Delta S$ values for each block. Take a few minutes to plan how you would do this. (*Hint: Imagine iterating through each macrostate where each iteration corresponds to one block gaining an energy quanta and the other loosing a quanta. Think about your range of iteration; how many values of $S$ do you have? How many $\\Delta S$'s will you have?*)\n",
    "3. Create an array of $T$ values for each block. For now, set $\\left|\\Delta U\\right| = 1$ (a single quanta), we'll change it to units of joules later in this exercise set. Don't forget to keep track of the sign of $\\Delta U$ for each block!"
   ]
  },
  {
   "cell_type": "code",
   "execution_count": 6,
   "metadata": {
    "executionInfo": {
     "elapsed": 170,
     "status": "ok",
     "timestamp": 1707420481802,
     "user": {
      "displayName": "Troy Messina",
      "userId": "08834187408513888437"
     },
     "user_tz": 300
    },
    "id": "PFuKAWNBLwjR",
    "tags": []
   },
   "outputs": [],
   "source": [
    "#Your code here\n",
    "DeltaU = 1 #quanta\n",
    "\n",
    "S_A = kB*np.log(Ways_A)\n",
    "S_B = kB*np.log(Ways_B)\n",
    "DeltaS_A = np.array([S_A[i+1] - S_A[i] for i in range(q_total)])\n",
    "DeltaS_B = np.array([S_B[i+1] - S_B[i] for i in range(q_total)])\n",
    "T_A =(DeltaU/DeltaS_A) #quanta/K\n",
    "T_B = -(DeltaU/DeltaS_B) #quanta/K"
   ]
  },
  {
   "cell_type": "markdown",
   "metadata": {
    "id": "bgm7FfttLwjR"
   },
   "source": [
    "**Create a plot of $T$ vs $q_A$ for both blocks and answer the following questions.**\n",
    "\n",
    "Don't forget that the ``plt.plot`` function requires you to input arrays of equal length (or equal length slices of larger arrays) so pay attention to the size of your arrays. Both plots should be on the same set of axes. Include appropriate title, axes labels, etc.\n",
    "\n",
    "* Where do the plots intersect? What is the physical significance of this point? Does this happen at the macrostate you would expect?\n",
    "* Create a bar-plot (``plt.bar``) of $W_\\text{combined}$ as a function of $q_A$ beneath the temperature plot (with proper titles, labels, etc.). How do these plots line up? What would you say is the connection between \"macroscopic thermal equilibrium\" and \"statistical equilibrium?\""
   ]
  },
  {
   "cell_type": "code",
   "execution_count": 7,
   "metadata": {
    "colab": {
     "base_uri": "https://localhost:8080/",
     "height": 472
    },
    "executionInfo": {
     "elapsed": 1214,
     "status": "ok",
     "timestamp": 1707420493278,
     "user": {
      "displayName": "Troy Messina",
      "userId": "08834187408513888437"
     },
     "user_tz": 300
    },
    "id": "tCI3p-IqLwjR",
    "outputId": "4d3ae0f2-8308-4459-8806-bd6aa31e8f68",
    "tags": []
   },
   "outputs": [
    {
     "data": {
      "image/png": "[encoded data removed]",
      "text/plain": [
       "<Figure size 640x480 with 1 Axes>"
      ]
     },
     "metadata": {},
     "output_type": "display_data"
    }
   ],
   "source": [
    "#Temperature Plot\n",
    "plt.plot(q_A[1::], T_A, label = 'Block A; N=150') #q_A is one item longer than either temperture array, so start the plot on the 1.\n",
    "plt.plot(q_A[1::], T_B, label = 'Block B; N=351')\n",
    "\n",
    "plt.title('Temperature vs quanta in A')\n",
    "plt.xlabel('Number of quanta in A')\n",
    "plt.ylabel('Temperature [K/(J/quanta)]')\n",
    "plt.legend()\n",
    "plt.show()"
   ]
  },
  {
   "cell_type": "code",
   "execution_count": 8,
   "metadata": {
    "colab": {
     "base_uri": "https://localhost:8080/",
     "height": 472
    },
    "executionInfo": {
     "elapsed": 556,
     "status": "ok",
     "timestamp": 1707420500751,
     "user": {
      "displayName": "Troy Messina",
      "userId": "08834187408513888437"
     },
     "user_tz": 300
    },
    "id": "bNpodDGqLwjR",
    "outputId": "1ec683dc-d7e7-4457-940c-1146e7c3f576",
    "tags": []
   },
   "outputs": [
    {
     "data": {
      "image/png": "[encoded data removed]",
      "text/plain": [
       "<Figure size 640x480 with 1 Axes>"
      ]
     },
     "metadata": {},
     "output_type": "display_data"
    }
   ],
   "source": [
    "#Multiplicity plot\n",
    "plt.bar(q_A, Ways_combined, label = 'Ways_A*Ways_B')\n",
    "\n",
    "plt.title('Combined Multiplicity')\n",
    "plt.xlabel('Number of quanta in A')\n",
    "plt.ylabel('multiplicity')\n",
    "plt.legend()\n",
    "plt.show()"
   ]
  },
  {
   "cell_type": "markdown",
   "metadata": {
    "id": "sR4dhSCfLwjR"
   },
   "source": [
    "**Your answers here**\n",
    "\n",
    "The two temperature plots intersect at the point at which $T_A = T_B$; this is the classical macroscopic definition of thermal equilibrium. Comparing this plot to the plot of $W_\\text{combined}$, the point of temperature intersection occurs at the same macrostate for which $W_\\text{combined}$ is maximized; this lends credence to the notion that statistical equilibrium occurs where multiplicity (and thus entropy) is maximized and that this is consistent with the idea that temperatures are equal in equilibrium."
   ]
  },
  {
   "cell_type": "markdown",
   "metadata": {
    "id": "VtnMpiZaLwjS"
   },
   "source": [
    "## Exercise 3: Calculating $\\Delta U$\n",
    "---\n",
    "\n",
    "The Ball-and-Spring model of a solid represents the chemical bonds between atoms in a solid as \"spring-like\" quantum harmonic oscillators.\n",
    "\n",
    "https://www.glowscript.org/#/user/matterandinteractions/folder/matterandinteractions/program/12-wells-oscillator\n",
    "\n",
    "The energy of a single quantum in the harmonic oscillator model is:\n",
    "$$\n",
    "\\begin{align}\n",
    "\\Delta U &= 1\\text{ quantum}\\\\\n",
    "&= \\hbar \\omega\\\\\n",
    "&= \\hbar \\sqrt{\\dfrac{k_\\text{s}}{m}}\\\\\n",
    "&= \\hbar \\sqrt{\\dfrac{4k_\\text{s,bond}}{m}}\n",
    "\\end{align}\n",
    "$$\n",
    "$m$, in this case is the mass of a single atom and $k_\\text{s,bond}$ is the effective \"spring stiffness\" of the chemical bond between neighboring atoms. The factor of 4 comes from the fact that in each dimension, each atom has a bond on both sides (for a factor of 2) and each spring-like bond is \"cut-in-half\" with the other half servicing the neighboring atom (a second factor of two)---that is, atoms in the bulk of a solid will have a larger oscillation frequency than a simple diatomic molecule would have with an equivalent bond. Each atom is comprised of three of these quantum oscillators (x-, y-, and z-directions), though we've already taken this into account by setting $N=3N_\\text{atoms}$ in the multiplicity.\n",
    "\n",
    "But how can we calculate $k_\\text{s,bond}$? It turns out that the macroscopically observable **modulus of linear elasticity (Young's Modulus)** is a macroscopic manifestation of microscopic atomic bond strength and so we can use this to estimate $k_\\text{s,bond}$:\n",
    "$$\n",
    "Y = \\dfrac{\\text{stress}}{\\text{strain}} = \\dfrac{(F/A)}{(\\Delta L/L)}\n",
    "$$\n",
    "Rearranging to recreate the form of Hooke's law:\n",
    "$$\n",
    "\\begin{align}\n",
    "F &= \\left(\\dfrac{YA}{L}\\right)\\Delta L\\\\\n",
    "&= k_\\text{s}\\Delta L\n",
    "\\end{align}\n",
    "$$\n",
    "This is a macroscopic expression, but if we imagine zooming into the stretching of a single bond, then we can write\n",
    "$$\n",
    "\\begin{align}\n",
    "F &= \\left(\\dfrac{YA_\\text{atom}}{L_\\text{bond}}\\right)\\Delta L_\\text{bond}\\\\\n",
    "&= k_\\text{s,bond}\\Delta L_\\text{bond}\n",
    "\\end{align}\n",
    "$$\n",
    "So, one way to estimate the effective bond stiffness is to just multiply young's modulus by the cross-sectional area of the volume occupied by a single atom and then divide by the atomic diameter (or just simply multiply by the atomic diameter).\n",
    "\n",
    "**Use the values given below to calculate the bond stiffness and the magnitude of an energy quantafor both lead and aluminum. Then answer the following questions**"
   ]
  },
  {
   "cell_type": "code",
   "execution_count": 29,
   "metadata": {
    "executionInfo": {
     "elapsed": 184,
     "status": "ok",
     "timestamp": 1707423502679,
     "user": {
      "displayName": "Troy Messina",
      "userId": "08834187408513888437"
     },
     "user_tz": 300
    },
    "id": "IWuB8ccwLwjS",
    "tags": []
   },
   "outputs": [
    {
     "name": "stdout",
     "output_type": "stream",
     "text": [
      "17.573461132402368\n"
     ]
    }
   ],
   "source": [
    "## Material Properties\n",
    "#Aluminum\n",
    "Y_Al = 68.9e9 #N/m^2\n",
    "density_Al= 2700 #kg/m^3\n",
    "atomic_mass_Al = 4.48e-26 #kg/atom\n",
    "\n",
    "#Lead\n",
    "Y_Pb = 16e9 #N/m^2\n",
    "density_Pb = 11340 #kg/m^3\n",
    "atomic_mass_Pb = 3.44e-25 #kg/atom\n",
    "\n",
    "#calculations\n",
    "ks_Pb = Y_Pb * (atomic_mass_Pb/density_Pb)**(1/3.)\n",
    "ks_Al = Y_Al * (atomic_mass_Al/density_Al)**(1/3.)\n",
    "\n",
    "DeltaU_Pb = hbar*np.sqrt(4*ks_Pb/atomic_mass_Pb) #joules\n",
    "DeltaU_Al = hbar*np.sqrt(4*ks_Al/atomic_mass_Al) #joules\n",
    "print(ks_Al)"
   ]
  },
  {
   "cell_type": "markdown",
   "metadata": {
    "id": "iEcBoseYLwjS"
   },
   "source": [
    "* Do these material values comport with your knowledge that lead is heavy but \"soft\" while aluminum is comparatively light but hard?\n",
    "* In the code below, recreate your calculations of temperature (Exercise 2) to feature these new calculations of $\\Delta U$. You should end up with an array of temperature values for each material.\n",
    "* Does the equilibrium temperature depend on the material of the blocks? (Assume that both are the same material; You can try making one lead and one aluminum to see what happens but since these materials have different sized quanta, then the model's exchange of individual quanta would violate energy conservation.)\n",
    "* For each material, plot the temperature of block A as a function of $q_A$. These should all be in the same plot. Be sure to include proper labeling, etc. (You can ignore block B for this)."
   ]
  },
  {
   "cell_type": "markdown",
   "metadata": {
    "id": "FQB5dqhRLwjS"
   },
   "source": [
    "**Your answers here**\n",
    "\n",
    "Qualitatively, lead is both heavier than a similarly-sized piece of aluminum and it is softer, i.e. more malleable. According to these material parameters, lead has both a larger atomic mass and a higher density than aluminum, so yes, that does comport with my experience with lead as being heavier than aluminum. Young's modulus effectively plots the force (per area) you must exert in order to effect a stretch; Lead has a much smaller modulus than aluminum meaning that you don't have to exert as much force to effect the same percent stretch. Again, this fits with my experiences of lead and aluminum.\n",
    "\n",
    "The equilibrium state does not depend on the size of $\\Delta U$ and thus does not depend on the material of the blocks; equilibrium occurs when $q/N$ is uniform (on average) across the blocks regardless of how much energy is contained in a single quanta. The temperature of this equilibrium, however, does depend on $\\Delta U$.\n",
    "\n",
    "By the way, notice that in the macroscopic limit, the equilibrium temperature only depends on the relative number of oscillators in each block and not on the block material (so long as both A and B are the same material, that is). We can see this from the calorimetry equation:\n",
    "$$\n",
    "\\begin{align}\n",
    "(M_Ac\\Delta T)_\\text{block A} = -(M_Bc\\Delta T)_\\text{block B}\\\\\n",
    "(m N_Ac\\Delta T)_\\text{block A} = -(m N_Bc\\Delta T)_\\text{block B}\\\\\n",
    "(N_A\\Delta T)_\\text{block A} = -(N_B\\Delta T)_\\text{block B}\\\\\n",
    "T_\\text{eq} = \\dfrac{T_{0A}N_A + T_{0B}N_B}{N_A + N_B}\n",
    "\\end{align}\n",
    "$$"
   ]
  },
  {
   "cell_type": "code",
   "execution_count": 10,
   "metadata": {
    "colab": {
     "base_uri": "https://localhost:8080/",
     "height": 472
    },
    "executionInfo": {
     "elapsed": 212,
     "status": "ok",
     "timestamp": 1707423505190,
     "user": {
      "displayName": "Troy Messina",
      "userId": "08834187408513888437"
     },
     "user_tz": 300
    },
    "id": "Wbl8Da6FLwjS",
    "outputId": "faf65893-c1d2-4c19-cb5b-6d28e831380f",
    "tags": []
   },
   "outputs": [
    {
     "data": {
      "image/png": "[encoded data removed]",
      "text/plain": [
       "<Figure size 640x480 with 1 Axes>"
      ]
     },
     "metadata": {},
     "output_type": "display_data"
    }
   ],
   "source": [
    "#Your code here\n",
    "\n",
    "T_Al = (DeltaU_Al/DeltaS_A)\n",
    "T_Pb = (DeltaU_Pb/DeltaS_A)\n",
    "\n",
    "#Your plots here\n",
    "\n",
    "plt.plot(q_A[1::], T_Al, 'b', label = 'Aluminum')\n",
    "plt.plot(q_A[1::], T_Pb, 'g', label = 'Lead')\n",
    "\n",
    "plt.title('Material Temperature vs Quanta')\n",
    "plt.xlabel('Number of quanta in A (N=150)')\n",
    "plt.ylabel('Temperature [k]')\n",
    "plt.legend()\n",
    "plt.show()"
   ]
  },
  {
   "cell_type": "markdown",
   "metadata": {
    "id": "fhzSmjF2LwjT"
   },
   "source": [
    "## Exercise 4: Emperical Heat Capacity Data\n",
    "---\n",
    "\n",
    "In the next few parts, we'll model the heat capacity of both an aluminum block and a lead block and compare these models to real data. From here on out, **focus just on block A**, which we will take to be alternatively aluminum and lead.\n",
    "\n",
    "**Download the csv file of heat capacity data posted with this workbook and save this file in the same folder as this workbook.**\n",
    "\n",
    "If you cannot access this csv file, a copy is publicly available on GitHub\n",
    "https://github.com/QuantumBrandon/Statistical-Mechanics-Public/blob/master/SpecificHeatData.csv\n",
    "\n",
    "You can download it manually or you can run the following code to download the csv file from GitHub and save it in the same folder as your Jupyter Notebook."
   ]
  },
  {
   "cell_type": "code",
   "execution_count": null,
   "metadata": {
    "id": "M0tBxndaLwjT"
   },
   "outputs": [],
   "source": [
    "#Only run if you've not already downloaded the heat capacity csv\n",
    "import os\n",
    "from six.moves import urllib\n",
    "\n",
    "DOWNLOAD_ROOT = \"https://raw.githubusercontent.com/QuantumBrandon/Statistical-Mechanics-Public/master/\"\n",
    "SPECIFICHEAT_URL = DOWNLOAD_ROOT + \"SpecificHeatData.csv\"\n",
    "\n",
    "def fetch_heatcapacity_data(url = SPECIFICHEAT_URL):\n",
    "    if not os.path.isfile(\"SpecificHeatData.csv\"):\n",
    "        urllib.request.urlretrieve(url, \"SpecificHeatData.csv\")\n",
    "fetch_heatcapacity_data()"
   ]
  },
  {
   "cell_type": "markdown",
   "metadata": {
    "id": "-Iba-OQfLwjT"
   },
   "source": [
    "Next, execute the following lines of code. (Note that these heat capacities are in units of joules per kelvin per mole)."
   ]
  },
  {
   "cell_type": "code",
   "execution_count": 11,
   "metadata": {
    "colab": {
     "base_uri": "https://localhost:8080/",
     "height": 355
    },
    "executionInfo": {
     "elapsed": 654,
     "status": "error",
     "timestamp": 1707424433684,
     "user": {
      "displayName": "Troy Messina",
      "userId": "08834187408513888437"
     },
     "user_tz": 300
    },
    "id": "x1r4Y2pxLwjT",
    "outputId": "b17b5657-25a4-4029-a3a8-117488df7450",
    "tags": []
   },
   "outputs": [
    {
     "data": {
      "text/html": [
       "<div>\n",
       "<style scoped>\n",
       "    .dataframe tbody tr th:only-of-type {\n",
       "        vertical-align: middle;\n",
       "    }\n",
       "\n",
       "    .dataframe tbody tr th {\n",
       "        vertical-align: top;\n",
       "    }\n",
       "\n",
       "    .dataframe thead th {\n",
       "        text-align: right;\n",
       "    }\n",
       "</style>\n",
       "<table border=\"1\" class=\"dataframe\">\n",
       "  <thead>\n",
       "    <tr style=\"text-align: right;\">\n",
       "      <th></th>\n",
       "      <th>Temperature</th>\n",
       "      <th>C_Al</th>\n",
       "      <th>C_Pb</th>\n",
       "      <th>C_Si</th>\n",
       "      <th>C_Di</th>\n",
       "      <th>C_NaCl</th>\n",
       "    </tr>\n",
       "  </thead>\n",
       "  <tbody>\n",
       "    <tr>\n",
       "      <th>0</th>\n",
       "      <td>20</td>\n",
       "      <td>0.23</td>\n",
       "      <td>11.01</td>\n",
       "      <td>0.100</td>\n",
       "      <td>0.00137</td>\n",
       "      <td>1.30</td>\n",
       "    </tr>\n",
       "    <tr>\n",
       "      <th>1</th>\n",
       "      <td>40</td>\n",
       "      <td>2.09</td>\n",
       "      <td>19.57</td>\n",
       "      <td>1.299</td>\n",
       "      <td>0.01220</td>\n",
       "      <td>10.10</td>\n",
       "    </tr>\n",
       "    <tr>\n",
       "      <th>2</th>\n",
       "      <td>60</td>\n",
       "      <td>5.77</td>\n",
       "      <td>22.43</td>\n",
       "      <td>3.488</td>\n",
       "      <td>0.04330</td>\n",
       "      <td>21.10</td>\n",
       "    </tr>\n",
       "    <tr>\n",
       "      <th>3</th>\n",
       "      <td>80</td>\n",
       "      <td>9.65</td>\n",
       "      <td>23.69</td>\n",
       "      <td>5.160</td>\n",
       "      <td>0.10700</td>\n",
       "      <td>29.29</td>\n",
       "    </tr>\n",
       "    <tr>\n",
       "      <th>4</th>\n",
       "      <td>100</td>\n",
       "      <td>13.04</td>\n",
       "      <td>24.40</td>\n",
       "      <td>7.160</td>\n",
       "      <td>0.24400</td>\n",
       "      <td>35.20</td>\n",
       "    </tr>\n",
       "    <tr>\n",
       "      <th>5</th>\n",
       "      <td>150</td>\n",
       "      <td>18.52</td>\n",
       "      <td>25.27</td>\n",
       "      <td>11.600</td>\n",
       "      <td>1.01000</td>\n",
       "      <td>43.38</td>\n",
       "    </tr>\n",
       "    <tr>\n",
       "      <th>6</th>\n",
       "      <td>200</td>\n",
       "      <td>21.58</td>\n",
       "      <td>25.87</td>\n",
       "      <td>15.300</td>\n",
       "      <td>2.34000</td>\n",
       "      <td>46.90</td>\n",
       "    </tr>\n",
       "    <tr>\n",
       "      <th>7</th>\n",
       "      <td>250</td>\n",
       "      <td>23.35</td>\n",
       "      <td>26.36</td>\n",
       "      <td>17.700</td>\n",
       "      <td>4.14000</td>\n",
       "      <td>48.78</td>\n",
       "    </tr>\n",
       "    <tr>\n",
       "      <th>8</th>\n",
       "      <td>300</td>\n",
       "      <td>24.32</td>\n",
       "      <td>26.82</td>\n",
       "      <td>19.400</td>\n",
       "      <td>6.19000</td>\n",
       "      <td>NaN</td>\n",
       "    </tr>\n",
       "    <tr>\n",
       "      <th>9</th>\n",
       "      <td>400</td>\n",
       "      <td>25.61</td>\n",
       "      <td>27.45</td>\n",
       "      <td>21.900</td>\n",
       "      <td>10.20000</td>\n",
       "      <td>NaN</td>\n",
       "    </tr>\n",
       "  </tbody>\n",
       "</table>\n",
       "</div>"
      ],
      "text/plain": [
       "   Temperature   C_Al   C_Pb    C_Si      C_Di  C_NaCl\n",
       "0           20   0.23  11.01   0.100   0.00137    1.30\n",
       "1           40   2.09  19.57   1.299   0.01220   10.10\n",
       "2           60   5.77  22.43   3.488   0.04330   21.10\n",
       "3           80   9.65  23.69   5.160   0.10700   29.29\n",
       "4          100  13.04  24.40   7.160   0.24400   35.20\n",
       "5          150  18.52  25.27  11.600   1.01000   43.38\n",
       "6          200  21.58  25.87  15.300   2.34000   46.90\n",
       "7          250  23.35  26.36  17.700   4.14000   48.78\n",
       "8          300  24.32  26.82  19.400   6.19000     NaN\n",
       "9          400  25.61  27.45  21.900  10.20000     NaN"
      ]
     },
     "execution_count": 11,
     "metadata": {},
     "output_type": "execute_result"
    }
   ],
   "source": [
    "import pandas as pd\n",
    "C_data = pd.read_csv('SpecificHeatData.csv', delimiter = ',')\n",
    "C_data"
   ]
  },
  {
   "cell_type": "code",
   "execution_count": 12,
   "metadata": {
    "id": "LaxfRqojLwjU",
    "tags": []
   },
   "outputs": [
    {
     "data": {
      "text/html": [
       "<div>\n",
       "<style scoped>\n",
       "    .dataframe tbody tr th:only-of-type {\n",
       "        vertical-align: middle;\n",
       "    }\n",
       "\n",
       "    .dataframe tbody tr th {\n",
       "        vertical-align: top;\n",
       "    }\n",
       "\n",
       "    .dataframe thead th {\n",
       "        text-align: right;\n",
       "    }\n",
       "</style>\n",
       "<table border=\"1\" class=\"dataframe\">\n",
       "  <thead>\n",
       "    <tr style=\"text-align: right;\">\n",
       "      <th></th>\n",
       "      <th>Temperature</th>\n",
       "      <th>C_Al</th>\n",
       "      <th>C_Pb</th>\n",
       "    </tr>\n",
       "  </thead>\n",
       "  <tbody>\n",
       "    <tr>\n",
       "      <th>0</th>\n",
       "      <td>20</td>\n",
       "      <td>0.23</td>\n",
       "      <td>11.01</td>\n",
       "    </tr>\n",
       "    <tr>\n",
       "      <th>1</th>\n",
       "      <td>40</td>\n",
       "      <td>2.09</td>\n",
       "      <td>19.57</td>\n",
       "    </tr>\n",
       "    <tr>\n",
       "      <th>2</th>\n",
       "      <td>60</td>\n",
       "      <td>5.77</td>\n",
       "      <td>22.43</td>\n",
       "    </tr>\n",
       "    <tr>\n",
       "      <th>3</th>\n",
       "      <td>80</td>\n",
       "      <td>9.65</td>\n",
       "      <td>23.69</td>\n",
       "    </tr>\n",
       "    <tr>\n",
       "      <th>4</th>\n",
       "      <td>100</td>\n",
       "      <td>13.04</td>\n",
       "      <td>24.40</td>\n",
       "    </tr>\n",
       "    <tr>\n",
       "      <th>5</th>\n",
       "      <td>150</td>\n",
       "      <td>18.52</td>\n",
       "      <td>25.27</td>\n",
       "    </tr>\n",
       "    <tr>\n",
       "      <th>6</th>\n",
       "      <td>200</td>\n",
       "      <td>21.58</td>\n",
       "      <td>25.87</td>\n",
       "    </tr>\n",
       "    <tr>\n",
       "      <th>7</th>\n",
       "      <td>250</td>\n",
       "      <td>23.35</td>\n",
       "      <td>26.36</td>\n",
       "    </tr>\n",
       "    <tr>\n",
       "      <th>8</th>\n",
       "      <td>300</td>\n",
       "      <td>24.32</td>\n",
       "      <td>26.82</td>\n",
       "    </tr>\n",
       "    <tr>\n",
       "      <th>9</th>\n",
       "      <td>400</td>\n",
       "      <td>25.61</td>\n",
       "      <td>27.45</td>\n",
       "    </tr>\n",
       "  </tbody>\n",
       "</table>\n",
       "</div>"
      ],
      "text/plain": [
       "   Temperature   C_Al   C_Pb\n",
       "0           20   0.23  11.01\n",
       "1           40   2.09  19.57\n",
       "2           60   5.77  22.43\n",
       "3           80   9.65  23.69\n",
       "4          100  13.04  24.40\n",
       "5          150  18.52  25.27\n",
       "6          200  21.58  25.87\n",
       "7          250  23.35  26.36\n",
       "8          300  24.32  26.82\n",
       "9          400  25.61  27.45"
      ]
     },
     "execution_count": 12,
     "metadata": {},
     "output_type": "execute_result"
    }
   ],
   "source": [
    "C_data_abr = C_data[['Temperature','C_Al', 'C_Pb']] #abr means abridged\n",
    "C_data_abr"
   ]
  },
  {
   "cell_type": "code",
   "execution_count": 13,
   "metadata": {
    "id": "on_Ot5PULwjU",
    "scrolled": true,
    "tags": []
   },
   "outputs": [
    {
     "data": {
      "text/plain": [
       "array([[2.000e+01, 2.300e-01, 1.101e+01],\n",
       "       [4.000e+01, 2.090e+00, 1.957e+01],\n",
       "       [6.000e+01, 5.770e+00, 2.243e+01],\n",
       "       [8.000e+01, 9.650e+00, 2.369e+01],\n",
       "       [1.000e+02, 1.304e+01, 2.440e+01],\n",
       "       [1.500e+02, 1.852e+01, 2.527e+01],\n",
       "       [2.000e+02, 2.158e+01, 2.587e+01],\n",
       "       [2.500e+02, 2.335e+01, 2.636e+01],\n",
       "       [3.000e+02, 2.432e+01, 2.682e+01],\n",
       "       [4.000e+02, 2.561e+01, 2.745e+01]])"
      ]
     },
     "execution_count": 13,
     "metadata": {},
     "output_type": "execute_result"
    }
   ],
   "source": [
    "C_data_array = np.array(C_data_abr)\n",
    "C_data_array"
   ]
  },
  {
   "cell_type": "code",
   "execution_count": 15,
   "metadata": {
    "id": "c-2OMPe4LwjU",
    "tags": []
   },
   "outputs": [
    {
     "data": {
      "image/png": "[encoded data removed]",
      "text/plain": [
       "<Figure size 640x480 with 1 Axes>"
      ]
     },
     "metadata": {},
     "output_type": "display_data"
    }
   ],
   "source": [
    "C_Lead_Plot = plt.plot(C_data_array[:,0], C_data_array[:,2],'o', label = 'Empirical Lead')\n",
    "C_Aluminum_Plot = plt.plot(C_data_array[:,0], C_data_array[:,1],'o', label = 'Empirical Aluminum')\n",
    "\n",
    "#ax = plt.gca()\n",
    "#C_data_abr.plot(kind = 'scatter', x = 'Temperature', y = 'C_Al', label='Aluminum', ax=ax)\n",
    "#C_data_abr.plot(kind = 'scatter', x = 'Temperature', y = 'C_Pb', label='Lead', color='orange', ax=ax)\n",
    "\n",
    "plt.title('Heat Capacity vs Temp')\n",
    "plt.xlabel('Temperature [K]')\n",
    "plt.ylabel('Heat Capacity [J/K*mol]')\n",
    "plt.legend()\n",
    "plt.show()"
   ]
  },
  {
   "cell_type": "markdown",
   "metadata": {
    "id": "WW4dOm9LLwjU"
   },
   "source": [
    "## Exercise 5: Numerical Prediction of C\n",
    "---\n",
    "\n",
    "The definition of heat capacity is\n",
    "$$\n",
    "C = \\dfrac{\\Delta U}{\\Delta T}\n",
    "$$\n",
    "where, as with temperature, this is taken to be a ratio of finite differences.\n",
    "\n",
    "**Write code to calculate $C(T)$ for both Aluminum and Lead and plot these predictions against the empirical data.**\n",
    "\n",
    "Both plots should be on the same set of axes. Include title, axes labels, etc. As in your calculation of $T$, don't forget to keep track of your iteration range and that the ``plot`` function requires you to input arrays of equal length (or equal length slices of larger arrays).\n",
    "Some things to keep in mind:\n",
    "* You only need to consider one block gaining energy quanta, but repeat this for each material.\n",
    "* Your numerical predictions will have dimensions of heat capacity per ($N_\\text{oscillators}/3$) atoms but the empirical data has dimensions of heat capacity per mole; make sure that the dimensions of your model are consistent with the empirical data before plotting. (If you get lost in the unit conversion, pay attention to the y-axis).\n",
    "* Your \"bond spring stiffness\" is an estimation based on the material average; feel free to \"tune\" your prediction in order to better fit the empirical data.\n",
    "* If you would like to test this model against other materials, csv files attached to this set contain data for diamond and silicon."
   ]
  },
  {
   "cell_type": "code",
   "execution_count": 16,
   "metadata": {
    "id": "XDpMbhhdLwjU",
    "scrolled": true,
    "tags": []
   },
   "outputs": [
    {
     "data": {
      "image/png": "[encoded data removed]",
      "text/plain": [
       "<Figure size 640x480 with 1 Axes>"
      ]
     },
     "metadata": {},
     "output_type": "display_data"
    }
   ],
   "source": [
    "#Your code here\n",
    "\n",
    "DeltaT_Al = np.array([T_Al[i+1] - T_Al[i] for i in range(q_total-1)])\n",
    "DeltaT_Pb = np.array([T_Pb[i+1] - T_Pb[i] for i in range(q_total-1)])\n",
    "\n",
    "C_Al = (DeltaU_Al/DeltaT_Al)*NA/(N_A/3)\n",
    "C_Pb = (DeltaU_Pb/DeltaT_Pb)*NA/(N_A/3)\n",
    "\n",
    "C_Model_Al = plt.plot(T_Al[0:-1], C_Al, label = 'Einstein Model of Al')\n",
    "C_Model_Pb = plt.plot(T_Pb[0:-1], C_Pb, label = 'Einstein Model of Pb')\n",
    "\n",
    "\n",
    "# This code plots the emperical data\n",
    "C_data_Al = plt.plot(C_data_array[:,0], C_data_array[:,1], 'o', label = 'Emperical Al')\n",
    "C_data_Pb = plt.plot(C_data_array[:,0], C_data_array[:,2], 'o', label = 'Emperical Pb')\n",
    "\n",
    "plt.title('Heat Capacity vs Temp')\n",
    "plt.xlabel('Temperature [K]')\n",
    "plt.ylabel('Heat Capacity [J/K*mol]')\n",
    "plt.legend()\n",
    "plt.show()"
   ]
  },
  {
   "cell_type": "markdown",
   "metadata": {
    "id": "srf8T49kLwjU"
   },
   "source": [
    "**Answer the following questions:**\n",
    "\n",
    "* How well does the numerical model of the Einstein solid reproduce the empirical data?\n",
    "* How does this compare to the classical prediction ($C = 3N_\\text{A}k_\\text{B}$ for all monatomic solids, independent of temperature)?\n",
    "* What does this imply about the validity of the Einstein model of a solid? What are some aspects of the empirical data that don't seem to be captured by your model? What are some aspects of the physical situation that your model doesn't capture (at least as far as heat capacity goes)?"
   ]
  },
  {
   "cell_type": "markdown",
   "metadata": {
    "id": "7M0pY04gLwjV"
   },
   "source": [
    "**Your answer goes here.**\n",
    "\n",
    "This model actually follows the data pretty well! it drops toward $C=0$ as $T\\to0$ and it levels off at around $3N_Ak_B$ as T grows large for both solids. This implies that the Einstein model accurately captures some features of nature.  That being said, this model does seem to diverge from the data at both high and low temperatures, which suggests that there are aspects of nature that are not captured (or not properly captured) by this model. in truth, we should expect atoms would resonate with one another and that long-range vibrations would be susceptible to being \"frozen out\" at low temperatures. The Einstein model also doesn't say anything about other vibrations that might contribute to the heat capacity including electronic vibrations and magnetic dipole oscillations."
   ]
  },
  {
   "cell_type": "markdown",
   "metadata": {
    "id": "-RDPL4rILwjV"
   },
   "source": [
    "## Exercise 6: Analytic Predictions of C\n",
    "---\n",
    "\n",
    "You may have noticed that the numerical plot doesn't extend down close to zero; this is partly a limitation of keeping our values for $N$ and $q$ small enough that the combinatoric functions don't overload the processor. As an alternative, we can turn to the analytic solution for heat capacity of the Einstein solid:\n",
    "$$\n",
    "C(T) = 3N_\\text{A}k_\\text{B}\\dfrac{e^{\\hbar\\omega/k_\\text{B}T}}{\\left(e^{\\hbar\\omega/k_\\text{B}T} - 1\\right)^2}\\left(\\dfrac{\\hbar\\omega}{k_\\text{B}T}\\right)^2\n",
    "$$\n",
    "\n",
    "**Write code that does the following:**\n",
    "\n",
    "1. Write a function that takes as input $\\omega$ and $T$ and outputs a value for the heat capacity.\n",
    "2. Create an array of temperature values between 1 and 400 and input these into this heat capacity function along with the oscillation frequency for aluminum.\n",
    "3. Plot the analytic solution against both the empirical data for aluminum and the numerical model for aluminum. This plot should include appropriate labels, etc.  "
   ]
  },
  {
   "cell_type": "code",
   "execution_count": 17,
   "metadata": {
    "id": "br8DKH6OLwjV",
    "tags": []
   },
   "outputs": [
    {
     "data": {
      "image/png": "[encoded data removed]",
      "text/plain": [
       "<Figure size 640x480 with 1 Axes>"
      ]
     },
     "metadata": {},
     "output_type": "display_data"
    }
   ],
   "source": [
    "#Your code here\n",
    "\n",
    "def HeatCapacity(T, omega):\n",
    "    a = (hbar*omega)/(kB*T)\n",
    "    b = np.exp(a)\n",
    "    return 3*NA*kB*b*(a**2)/(b-1)**2\n",
    "\n",
    "T = np.arange(1,400)\n",
    "\n",
    "plt.plot(T, HeatCapacity(T,DeltaU_Al/hbar), label = 'Analytic model of Al')\n",
    "plt.plot(T_Al[0:-1], C_Al, label = 'Numerical Model of Al')\n",
    "C_data_Al = plt.plot(C_data_array[:,0], C_data_array[:,1], 'o', label = 'Emperical Al Data')\n",
    "\n",
    "plt.title('Heat Capacity vs Temp')\n",
    "plt.xlabel('Temperature [K]')\n",
    "plt.ylabel('Heat Capacity [J/K*mol]')\n",
    "plt.legend()\n",
    "plt.show()"
   ]
  },
  {
   "cell_type": "markdown",
   "metadata": {
    "id": "6v5cMQvaLwjV"
   },
   "source": [
    "**Comment on these**\n",
    "\n",
    "what are some aspects of the emperical data thath don't seem to be captures by your model?"
   ]
  },
  {
   "cell_type": "markdown",
   "metadata": {
    "id": "9kvGt32yLwjV"
   },
   "source": [
    "## Bonus Code!\n",
    "---\n",
    "\n",
    "#### Alternate numerical algorithm for calculating C:\n",
    "Here is an alternate algorithm for calculating the heat capacity with a more explicit iteration. Since each value of C is a delta of deltas, the algorithm must calculate 3 values of S in ordert to generate two values of Delta S, and finally one value of C. I will focus just on Al for this."
   ]
  },
  {
   "cell_type": "code",
   "execution_count": 18,
   "metadata": {
    "id": "yosmsnGVLwjV",
    "tags": []
   },
   "outputs": [
    {
     "data": {
      "image/png": "[encoded data removed]",
      "text/plain": [
       "<Figure size 640x480 with 1 Axes>"
      ]
     },
     "metadata": {},
     "output_type": "display_data"
    }
   ],
   "source": [
    "# Alternate numerical algorithm for calculating C. Since each value of C is a delta of deltas,\n",
    "# the algorithm must calculate 3 values of S in ordert to generate two values of\n",
    "# Delta S, and finally one value of C. I will focus just on Al for this.\n",
    "\n",
    "C = []\n",
    "T = []\n",
    "\n",
    "for q in range(q_total - 1):\n",
    "    S1 = kB*np.log(sp.comb(N_A + q -1, q))\n",
    "    S2 = kB*np.log(sp.comb(N_A + (q+1) -1, q+1))\n",
    "    S3 = kB*np.log(sp.comb(N_A + (q+2) -1, q+2))\n",
    "\n",
    "    DeltaS_12 = S2 - S1\n",
    "    DeltaS_23 = S3 - S2\n",
    "\n",
    "    T12 = DeltaU_Al/DeltaS_12\n",
    "    T23 = DeltaU_Al/DeltaS_23\n",
    "\n",
    "    DeltaT = T23 - T12\n",
    "\n",
    "    C.append((DeltaU_Al/DeltaT)*(NA/50))\n",
    "    T.append(T12)\n",
    "\n",
    "Al_model = plt.plot(T,C, label='Model Al')\n",
    "C_data_Al = plt.plot(C_data_array[:,0], C_data_array[:,1], 'o', label = 'Emperical Al')\n",
    "plt.xlabel('Temperature [K]')\n",
    "plt.ylabel('Heat Capacity [J/K*mol]')\n",
    "plt.legend()\n",
    "plt.show()"
   ]
  },
  {
   "cell_type": "markdown",
   "metadata": {
    "id": "9oj3vxt2LwjZ"
   },
   "source": [
    "**Large q or N**\n",
    "\n",
    "You may have noticed that the numerical plot doesn't extend down close to zero; this is partly a limitation of keeping our values for $N$ and $q$ small enough that the combinatoric functions don't overload the processor. If you would like to use the numerical algorithm with larger $q$ and/or $N$, DO NOT use use the combinatoric functions for $q+N$ much larger than a few hundred (similarly, don't calculate $q^q$ or $N^N$ for even medium-sized values of $q$ or $N$.) Instead, calculate the entropy directly using the stirling approximation:\n",
    "\n",
    "$$\n",
    "S\\approx k_\\text{B}\\left[(q+N)\\ln\\left(q+N\\right) - q\\ln\\left(q\\right) - N\\ln\\left(N\\right)\\right]\n",
    "$$\n",
    "\n",
    "\n",
    "\n",
    "Although $0\\ln(0) = 0$, $\\ln(0) = -\\infty$ and so the computer might output NaN; to avoid this, simply start the calculation at q = 1."
   ]
  },
  {
   "cell_type": "code",
   "execution_count": 19,
   "metadata": {
    "id": "xHD-4tcNLwjZ",
    "tags": []
   },
   "outputs": [],
   "source": [
    "# Alternate calculations for large q,N\n",
    "\n",
    "DeltaU = 1\n",
    "q_A = np.array([q for q in range(1,q_total + 2)])\n",
    "S_A = kB*((q_A + N_A)*np.log(q_A+N_A) - q_A*np.log(q_A) - N_A*np.log(N_A))\n",
    "DeltaS_A = np.array([S_A[i+1] - S_A[i] for i in range(q_total)])\n",
    "T_A =(DeltaU/DeltaS_A)"
   ]
  },
  {
   "cell_type": "markdown",
   "metadata": {
    "id": "oWcHUZd-Lwja"
   },
   "source": [
    "#### Even more heat capacity data\n",
    "In addition to aluminum and lead, the SpecificHeatData.csv data file contains specific heat capacity measurements at various temperatures for silicon, diamond, and salt (NaCl). We can model and plot these alongside the lead and aluminum data (as well as any other materials that you might want to add into that file) however adding additional material data (density, Young's modulus, etc.) into the code as written starts to become klunky. To alleviate this, I have included a second csv file with material properties of five materials (Al, Pb, Si, Di, NaCl); The following code makes use of the Pandas library to extract the csv data into a DataFrame which streamlines data analysis. In particular, this code preserves readable variable names (as opposed to something abstract like \"material_data[1,2]\"). This code is also set up so that additional material data can be added to this csv file without having to alter the code. As above, I am including some code to download this from my GitHub account."
   ]
  },
  {
   "cell_type": "code",
   "execution_count": 20,
   "metadata": {
    "id": "-Aclg3r7Lwja",
    "tags": []
   },
   "outputs": [],
   "source": [
    "#Download the MaterialProperties csv from GitHub. Only run if you've not already downloaded the properties csv\n",
    "import os\n",
    "from six.moves import urllib\n",
    "\n",
    "DOWNLOAD_ROOT = \"https://raw.githubusercontent.com/QuantumBrandon/Statistical-Mechanics-Public/master/\"\n",
    "MATERIAL_URL = DOWNLOAD_ROOT + \"MaterialProperties.csv\"\n",
    "\n",
    "def fetch_material_data(url = MATERIAL_URL):\n",
    "    if not os.path.isfile(\"MaterialProperties.csv\"):\n",
    "        urllib.request.urlretrieve(url, \"MaterialProperties.csv\")\n",
    "fetch_material_data()"
   ]
  },
  {
   "cell_type": "code",
   "execution_count": 21,
   "metadata": {
    "id": "Unv_iMqWLwja",
    "tags": []
   },
   "outputs": [
    {
     "data": {
      "text/html": [
       "<div>\n",
       "<style scoped>\n",
       "    .dataframe tbody tr th:only-of-type {\n",
       "        vertical-align: middle;\n",
       "    }\n",
       "\n",
       "    .dataframe tbody tr th {\n",
       "        vertical-align: top;\n",
       "    }\n",
       "\n",
       "    .dataframe thead th {\n",
       "        text-align: right;\n",
       "    }\n",
       "</style>\n",
       "<table border=\"1\" class=\"dataframe\">\n",
       "  <thead>\n",
       "    <tr style=\"text-align: right;\">\n",
       "      <th></th>\n",
       "      <th>Young’s Modulus [N/m^2]</th>\n",
       "      <th>Density [kg/m^3]</th>\n",
       "      <th>Atomic Mass [kg/atom]</th>\n",
       "    </tr>\n",
       "    <tr>\n",
       "      <th>Material</th>\n",
       "      <th></th>\n",
       "      <th></th>\n",
       "      <th></th>\n",
       "    </tr>\n",
       "  </thead>\n",
       "  <tbody>\n",
       "    <tr>\n",
       "      <th>Aluminum</th>\n",
       "      <td>6.900000e+10</td>\n",
       "      <td>2700</td>\n",
       "      <td>4.480000e-26</td>\n",
       "    </tr>\n",
       "    <tr>\n",
       "      <th>Lead</th>\n",
       "      <td>1.600000e+10</td>\n",
       "      <td>11340</td>\n",
       "      <td>3.440000e-25</td>\n",
       "    </tr>\n",
       "    <tr>\n",
       "      <th>Silicon</th>\n",
       "      <td>1.700000e+11</td>\n",
       "      <td>2530</td>\n",
       "      <td>4.660000e-26</td>\n",
       "    </tr>\n",
       "    <tr>\n",
       "      <th>Diamond</th>\n",
       "      <td>1.220000e+12</td>\n",
       "      <td>3530</td>\n",
       "      <td>1.990000e-26</td>\n",
       "    </tr>\n",
       "  </tbody>\n",
       "</table>\n",
       "</div>"
      ],
      "text/plain": [
       "          Young’s Modulus [N/m^2]  Density [kg/m^3]  Atomic Mass [kg/atom]\n",
       "Material                                                                  \n",
       "Aluminum             6.900000e+10              2700           4.480000e-26\n",
       "Lead                 1.600000e+10             11340           3.440000e-25\n",
       "Silicon              1.700000e+11              2530           4.660000e-26\n",
       "Diamond              1.220000e+12              3530           1.990000e-26"
      ]
     },
     "execution_count": 21,
     "metadata": {},
     "output_type": "execute_result"
    }
   ],
   "source": [
    "import pandas as pd\n",
    "from pandas import Series\n",
    "\n",
    "material_data = pd.read_csv('MaterialProperties.csv', delimiter = ',')\n",
    "\n",
    "# Some minor data cleaning needs to be done on the csv data as is prior to any analysis.\n",
    "# This first block of code sets up any cleaning algorithms that need to be performed on the extracted data.\n",
    "\n",
    "def SetUpIndex(dataset):\n",
    "    '''\n",
    "    This function replaces the original numbered index in a Pandas Data Frame with the materal name\n",
    "    contained in the first column. This then deletes that column.\n",
    "    '''\n",
    "    dataset.index = dataset.Material\n",
    "    del material_data['Material']\n",
    "\n",
    "#cleaninglist is a list of all functions that will need to be applied to a csv before data\n",
    "#analysis can occur. The CleanData function will run each of these functions.\n",
    "\n",
    "cleaninglist = [SetUpIndex]\n",
    "\n",
    "def CleanData(dataset, cleaning_todo = cleaninglist):\n",
    "    '''\n",
    "    This function will apply all functions listed in the 'cleaning to do list' to a csv file\n",
    "    input as 'dataset'.\n",
    "    The functions in 'cleaninglist' can be any function that needs to be applied to a\n",
    "    csv file prior to its use in analysis.\n",
    "\n",
    "    '''\n",
    "    for function in cleaning_todo:\n",
    "        function(dataset)\n",
    "\n",
    "CleanData(material_data)\n",
    "\n",
    "material_data"
   ]
  },
  {
   "cell_type": "code",
   "execution_count": 23,
   "metadata": {
    "id": "lAaKpb27Lwja",
    "tags": []
   },
   "outputs": [
    {
     "data": {
      "text/html": [
       "<div>\n",
       "<style scoped>\n",
       "    .dataframe tbody tr th:only-of-type {\n",
       "        vertical-align: middle;\n",
       "    }\n",
       "\n",
       "    .dataframe tbody tr th {\n",
       "        vertical-align: top;\n",
       "    }\n",
       "\n",
       "    .dataframe thead th {\n",
       "        text-align: right;\n",
       "    }\n",
       "</style>\n",
       "<table border=\"1\" class=\"dataframe\">\n",
       "  <thead>\n",
       "    <tr style=\"text-align: right;\">\n",
       "      <th>Material</th>\n",
       "      <th>Aluminum</th>\n",
       "      <th>Lead</th>\n",
       "      <th>Silicon</th>\n",
       "      <th>Diamond</th>\n",
       "    </tr>\n",
       "  </thead>\n",
       "  <tbody>\n",
       "    <tr>\n",
       "      <th>Young’s Modulus [N/m^2]</th>\n",
       "      <td>6.900000e+10</td>\n",
       "      <td>1.600000e+10</td>\n",
       "      <td>1.700000e+11</td>\n",
       "      <td>1.220000e+12</td>\n",
       "    </tr>\n",
       "    <tr>\n",
       "      <th>Density [kg/m^3]</th>\n",
       "      <td>2.700000e+03</td>\n",
       "      <td>1.134000e+04</td>\n",
       "      <td>2.530000e+03</td>\n",
       "      <td>3.530000e+03</td>\n",
       "    </tr>\n",
       "    <tr>\n",
       "      <th>Atomic Mass [kg/atom]</th>\n",
       "      <td>4.480000e-26</td>\n",
       "      <td>3.440000e-25</td>\n",
       "      <td>4.660000e-26</td>\n",
       "      <td>1.990000e-26</td>\n",
       "    </tr>\n",
       "    <tr>\n",
       "      <th>Effective Spring Stiffness [N/kg]</th>\n",
       "      <td>1.759897e+01</td>\n",
       "      <td>4.990014e+00</td>\n",
       "      <td>4.489563e+01</td>\n",
       "      <td>2.171297e+02</td>\n",
       "    </tr>\n",
       "    <tr>\n",
       "      <th>Delta U [J]</th>\n",
       "      <td>4.162209e-21</td>\n",
       "      <td>7.998176e-22</td>\n",
       "      <td>6.518210e-21</td>\n",
       "      <td>2.193575e-20</td>\n",
       "    </tr>\n",
       "  </tbody>\n",
       "</table>\n",
       "</div>"
      ],
      "text/plain": [
       "Material                               Aluminum          Lead       Silicon  \\\n",
       "Young’s Modulus [N/m^2]            6.900000e+10  1.600000e+10  1.700000e+11   \n",
       "Density [kg/m^3]                   2.700000e+03  1.134000e+04  2.530000e+03   \n",
       "Atomic Mass [kg/atom]              4.480000e-26  3.440000e-25  4.660000e-26   \n",
       "Effective Spring Stiffness [N/kg]  1.759897e+01  4.990014e+00  4.489563e+01   \n",
       "Delta U [J]                        4.162209e-21  7.998176e-22  6.518210e-21   \n",
       "\n",
       "Material                                Diamond  \n",
       "Young’s Modulus [N/m^2]            1.220000e+12  \n",
       "Density [kg/m^3]                   3.530000e+03  \n",
       "Atomic Mass [kg/atom]              1.990000e-26  \n",
       "Effective Spring Stiffness [N/kg]  2.171297e+02  \n",
       "Delta U [J]                        2.193575e-20  "
      ]
     },
     "execution_count": 23,
     "metadata": {},
     "output_type": "execute_result"
    }
   ],
   "source": [
    "# Now we can calulate the effective spring stiffness and energy quanta of these materials.\n",
    "\n",
    "def ExtendedProperties(material):\n",
    "    '''\n",
    "    This function takes as input Young's modulus, atomic density, and atomic mass\n",
    "    and calculates the effective bond stiffness and the approximate size of an energy\n",
    "    quanta.\n",
    "\n",
    "    This function is written to operate on the DataFrame created from the csv that is\n",
    "    paired with this exercise and thus is not general.\n",
    "    '''\n",
    "\n",
    "    #these variables are easier to write into equations\n",
    "    Y = material['Young’s Modulus [N/m^2]']\n",
    "    density = material['Density [kg/m^3]']\n",
    "    mass = material['Atomic Mass [kg/atom]']\n",
    "\n",
    "    #calculate the effective bond stiffness and the size of an energy quanta\n",
    "    ks = Y*(mass/density)**(1/3)\n",
    "    Delta_U = hbar*np.sqrt(4*ks/mass)\n",
    "\n",
    "\n",
    "    return Series([ks, Delta_U], index=['Effective Spring Stiffness [N/kg]', 'Delta U [J]'])\n",
    "\n",
    "material_properties = pd.merge(material_data, material_data.apply(ExtendedProperties, axis=1),on = 'Material').transpose()\n",
    "\n",
    "material_properties\n"
   ]
  },
  {
   "cell_type": "markdown",
   "metadata": {
    "id": "N2gYzy5zLwja"
   },
   "source": [
    "Try executing the following lines of code:"
   ]
  },
  {
   "cell_type": "code",
   "execution_count": 24,
   "metadata": {
    "id": "xmF6z4F0Lwjb",
    "tags": []
   },
   "outputs": [
    {
     "data": {
      "text/plain": [
       "Young’s Modulus [N/m^2]              1.700000e+11\n",
       "Density [kg/m^3]                     2.530000e+03\n",
       "Atomic Mass [kg/atom]                4.660000e-26\n",
       "Effective Spring Stiffness [N/kg]    4.489563e+01\n",
       "Delta U [J]                          6.518210e-21\n",
       "Name: Silicon, dtype: float64"
      ]
     },
     "execution_count": 24,
     "metadata": {},
     "output_type": "execute_result"
    }
   ],
   "source": [
    "material_properties['Silicon']"
   ]
  },
  {
   "cell_type": "code",
   "execution_count": 25,
   "metadata": {
    "id": "4aIJYEWYLwjb",
    "tags": []
   },
   "outputs": [
    {
     "data": {
      "text/plain": [
       "4.48e-26"
      ]
     },
     "execution_count": 25,
     "metadata": {},
     "output_type": "execute_result"
    }
   ],
   "source": [
    "material_properties['Aluminum']['Atomic Mass [kg/atom]']"
   ]
  },
  {
   "cell_type": "code",
   "execution_count": 26,
   "metadata": {
    "id": "xeUaCsQ4Lwjb",
    "tags": []
   },
   "outputs": [
    {
     "name": "stdout",
     "output_type": "stream",
     "text": [
      "2700.0\n",
      "2530.0\n"
     ]
    }
   ],
   "source": [
    "Material_List = ['Aluminum', 'Silicon']\n",
    "for material in Material_List:\n",
    "    print(material_properties[material]['Density [kg/m^3]'])"
   ]
  },
  {
   "cell_type": "markdown",
   "metadata": {
    "id": "LbPwXLU7Lwjb"
   },
   "source": [
    "Everything is set up to plot both the empirical data and the theoretical models. Write into the following two lists which materials you would like to include in the plot"
   ]
  },
  {
   "cell_type": "code",
   "execution_count": 27,
   "metadata": {
    "id": "R9KkdGxiLwjb",
    "tags": []
   },
   "outputs": [
    {
     "data": {
      "image/png": "[encoded data removed]",
      "text/plain": [
       "<Figure size 640x480 with 1 Axes>"
      ]
     },
     "metadata": {},
     "output_type": "display_data"
    }
   ],
   "source": [
    "#Which models do you want to plot?\n",
    "model_list = ['Lead', 'Aluminum']#['Aluminum', 'Silicon', 'Lead', 'Diamond']\n",
    "\n",
    "#Which emperical data set do you want to plot?\n",
    "empirical_list = ['C_Al', 'C_Pb']#['C_Al', 'C_Si', 'C_Pb', 'C_Di', 'C_NaCl']\n",
    "\n",
    "\n",
    "def Delta(array):\n",
    "    '''\n",
    "    Given an input list, return an array that calculates differences between sequential values in the input list.\n",
    "    Output array has a length of (len(input) - 1)\n",
    "    '''\n",
    "    length = len(array) - 1 #the array of deltas will be shorter than the input array by 1\n",
    "    DeltaArray = np.array([array[i+1] - array[i] for i in range(length)])\n",
    "    return DeltaArray\n",
    "\n",
    "for material in model_list:\n",
    "\n",
    "    #T = DeltaU/DeltaS\n",
    "    DeltaS = Delta(S_A) #S_A is defined in the original code, above.\n",
    "    T = material_properties[material]['Delta U [J]']/DeltaS\n",
    "\n",
    "    #C = DeltaU/DeltaT\n",
    "    DeltaT = Delta(T)\n",
    "    C = material_properties[material]['Delta U [J]']/DeltaT\n",
    "\n",
    "    plt.plot(T[1:],C*(NA/50), label = material) #Note that C is shorter than T by 1; \"T[1:]\" skips the 0th value.\n",
    "\n",
    "C_data = pd.read_csv('SpecificHeatData.csv', delimiter = ',')\n",
    "for material in empirical_list:\n",
    "\n",
    "    T = C_data['Temperature']\n",
    "    C = C_data[material]\n",
    "    plt.plot(T,C, 'o', label = material)\n",
    "\n",
    "plt.title('Heat Capacity vs Temp')\n",
    "plt.xlabel('Temperature [K]')\n",
    "plt.ylabel('Heat Capacity [J/K*mol]')\n",
    "plt.legend()\n",
    "plt.show()\n"
   ]
  },
  {
   "cell_type": "markdown",
   "metadata": {
    "id": "WWBdPEDDLwjb"
   },
   "source": [
    "And in case you just want to set these parameters directly in the code."
   ]
  },
  {
   "cell_type": "code",
   "execution_count": 28,
   "metadata": {
    "id": "ViXqimRfLwjc",
    "tags": []
   },
   "outputs": [],
   "source": [
    "#Silicon ((1,1,1) crystal)\n",
    "Y_Si = 168.9e9 ##N/m^2\n",
    "density_Si = 2530 #kg/m^3\n",
    "atomic_mass_Si = 4.66e-26 #kg/atom\n",
    "\n",
    "#Diamond\n",
    "Y_Di = 1220e9 ##N/m^2\n",
    "density_Di = 3530 #kg/m^3\n",
    "atomic_mass_Di = 1.99e-26 #kg/atom. This is for a carbon atom."
   ]
  },
  {
   "cell_type": "code",
   "execution_count": null,
   "metadata": {},
   "outputs": [],
   "source": []
  },
  {
   "cell_type": "code",
   "execution_count": null,
   "metadata": {},
   "outputs": [],
   "source": []
  }
 ],
 "metadata": {
  "colab": {
   "provenance": []
  },
  "kernelspec": {
   "display_name": "Python 3 (ipykernel)",
   "language": "python",
   "name": "python3"
  },
  "language_info": {
   "codemirror_mode": {
    "name": "ipython",
    "version": 3
   },
   "file_extension": ".py",
   "mimetype": "text/x-python",
   "name": "python",
   "nbconvert_exporter": "python",
   "pygments_lexer": "ipython3",
   "version": "3.8.12"
  }
 },
 "nbformat": 4,
 "nbformat_minor": 4
}
