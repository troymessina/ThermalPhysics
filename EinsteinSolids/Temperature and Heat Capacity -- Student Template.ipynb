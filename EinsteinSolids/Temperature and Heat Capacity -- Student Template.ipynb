{
 "cells": [
  {
   "cell_type": "markdown",
   "metadata": {},
   "source": [
    "# Temperature and Heat Capacity for Einstein Solids in Contact\n",
    "---\n",
    "\n",
    "Previously, you built a computational model to analyze two Einstein Solids in contact. With this model, you looked at how the ideas of thermal equilibrium and entropy can emerge from statistical combinatorics. \n",
    "\n",
    "In this activity, you will expand your previous analysis of Einstein solids in order to extend the idea of statistical equilibirum to include temperature. You will also compare your model of the heat capacity to empirical data. \n",
    "\n",
    "Broadly, your model should\n",
    "* Iterate over energy **macrostates**; Again, imagine starting with all of the quanta in solid A and then, one-by-one, shifting individual quanta into solid B. \n",
    "* Calculate the **multiplicity** and **entropy** for each macrostate (from the previous activity set)\n",
    "* Use macroscopic material properties (Young's Modulus) to estimate atomic properties (metalic bond strength, energy quanta)\n",
    "* Calculate thermodynamic quantities (**temperature** and **heat capacity**) derived from the multiplicity and the energy \n",
    "* Extract heat capacity data from an external file (attached to this activity) and plot those data against your model predictions."
   ]
  },
  {
   "cell_type": "markdown",
   "metadata": {},
   "source": [
    "## Exercise 1: Setting up the program\n",
    "---\n",
    "\n",
    "**Run the following code** \n",
    "\n",
    "Begin by importing the following libraries in order to manipulate arrays, use combinatorics, and plot."
   ]
  },
  {
   "cell_type": "code",
   "execution_count": null,
   "metadata": {},
   "outputs": [],
   "source": [
    "import numpy as np\n",
    "import matplotlib.pyplot as plt\n",
    "import scipy.special as sp"
   ]
  },
  {
   "cell_type": "markdown",
   "metadata": {},
   "source": [
    "We want to modeel two Einstein solids in contact; one with 150 oscillators and one with 351, sharing 100 energy quanta between them. Remember that each atom corresponds to 3 oscillators in the Einstein solid, so block A has 50 atoms and block B has 117 atoms.\n",
    "\n",
    "Run the following code to define parameters and initial conditions."
   ]
  },
  {
   "cell_type": "code",
   "execution_count": null,
   "metadata": {},
   "outputs": [],
   "source": [
    "#Fundamental Constants\n",
    "kB = 1.38e-23 #Boltzmann Constant [J/K]\n",
    "hbar = 1.05e-34 #Planck Reduced Constant [J*s]\n",
    "NA = 6.02e23 #Avogadro's Number [Atoms/Mole]\n",
    "\n",
    "# Model Parameters\n",
    "q_total = 100 #Total energy quanta\n",
    "N_A = 150 #Number of oscillators in block A\n",
    "N_B = 351 #Number of oscillators in block B"
   ]
  },
  {
   "cell_type": "markdown",
   "metadata": {},
   "source": [
    "The next block of code is the basis for the previous activity \"Einstein Solids in Contact.\" After running this, take a few minutes to confirm that it will create an array of all macrostates and calculate the multiplicities of each macrostate. Again, the basis of the algorithm is to imagine moving energy from block A to block B one quanta at a time and, for each step, calculating the multiplicity. "
   ]
  },
  {
   "cell_type": "code",
   "execution_count": null,
   "metadata": {},
   "outputs": [],
   "source": [
    "# Multiplicity Calculations\n",
    "q_A = np.array([q for q in range(q_total + 1)])\n",
    "q_B = q_total - q_A\n",
    "W_A = sp.comb(N_A + q_A - 1, q_A)\n",
    "W_B = sp.comb(N_B + q_B - 1, q_B)\n",
    "W_combined = W_A*W_B"
   ]
  },
  {
   "cell_type": "markdown",
   "metadata": {},
   "source": [
    "Output some of these variables to see what kinds of objects they are. "
   ]
  },
  {
   "cell_type": "code",
   "execution_count": null,
   "metadata": {},
   "outputs": [],
   "source": [
    "q_A"
   ]
  },
  {
   "cell_type": "code",
   "execution_count": null,
   "metadata": {},
   "outputs": [],
   "source": [
    "W_A"
   ]
  },
  {
   "cell_type": "markdown",
   "metadata": {},
   "source": [
    "**Answer the following questions:** \n",
    "* Why is the iteration range ($q_\\text{total} + 1$) and not just $q_\\text{total}$? \n",
    "* What percentage of the total oscillators are in block A? \n",
    "* In (statistical) thermal equilibrium, how many energy quanta would you expect to be in block A? (i.e. what macrostate corresponds to the greatest multiplicity? Feel free to graph this).  "
   ]
  },
  {
   "cell_type": "markdown",
   "metadata": {},
   "source": [
    "**Your answer here.**"
   ]
  },
  {
   "cell_type": "markdown",
   "metadata": {},
   "source": [
    "## Exercise 2: Calculating Temperature\n",
    "---\n",
    "The statistical definition of temperature is\n",
    "$$\n",
    "T = \\dfrac{\\Delta U}{\\Delta S}\n",
    "$$\n",
    "where this is regarded to be a ratio of finite differences. (This can be approximated as a derivative only in the limit of large systems with lots of energy quanta.)\n",
    "\n",
    "**We would like to calculate the temperature of each block as a function of the number of energy quanta in block A.** Given the code in Exercise 1 that generateed arrays of multiplicity values for both blocks as a function of the energy quanta in block A, **write code that will do the following:**\n",
    "\n",
    "1. Calculate an array of entropy values for each block. Don't forget that statistical entropy is defined as $S = k_\\text{B}\\ln W$\n",
    "2. Iterate through these arrays and create another array of $\\Delta S$ values for each block. Take a few minutes to plan how you would do this. (*Hint: Imagine iterating through each macrostate where each iteration corresponds to one block gaining an energy quanta and the other loosing a quanta. Think about your range of iteration; how many values of $S$ do you have? How many $\\Delta S$'s will you have?*)\n",
    "3. Create an array of $T$ values for each block. For now, set $\\left|\\Delta U\\right| = 1$ (a single quanta), we'll change it to units of joules later in this exercise set. Don't forget to keep track of the sign of $\\Delta U$ for each block!"
   ]
  },
  {
   "cell_type": "code",
   "execution_count": null,
   "metadata": {},
   "outputs": [],
   "source": [
    "# Your code here\n",
    "DeltaU = 1 #1 quanta"
   ]
  },
  {
   "cell_type": "markdown",
   "metadata": {},
   "source": [
    "**Create a plot of $T$ vs $q_A$ for both blocks and answer the following questions.** \n",
    "\n",
    "Don't forget that the ``plt.plot`` function requires you to input arrays of equal length (or equal length slices of larger arrays) so pay attention to the size of your arrays. Both plots should be on the same set of axes. Include appropriate title, axes labels, etc. \n",
    "\n",
    "* Where do the plots intersect? What is the physical significance of this point? Does this happen at the macrostate you would expect? \n",
    "* Create a bar-plot (``plt.bar``) of $W_\\text{combined}$ as a function of $q_A$ beneath the temperature plot (with proper titles, labels, etc.). How do these plots line up? What would you say is the connection between \"macroscopic thermal equilibrium\" and \"statistical equilibrium?\""
   ]
  },
  {
   "cell_type": "code",
   "execution_count": null,
   "metadata": {},
   "outputs": [],
   "source": [
    "#Your Code here for the temperature plot\n",
    "\n",
    "plt.title('') # Create appropriate labels\n",
    "plt.xlabel('')\n",
    "plt.ylabel('')\n",
    "plt.legend() #Leave this as-is\n",
    "plt.show() #Leave this as-is"
   ]
  },
  {
   "cell_type": "code",
   "execution_count": null,
   "metadata": {},
   "outputs": [],
   "source": [
    "#Your code here for the multiplicity bar-plot\n",
    "\n",
    "plt.title('')\n",
    "plt.xlabel('')\n",
    "plt.ylabel('')\n",
    "plt.legend()\n",
    "plt.show()"
   ]
  },
  {
   "cell_type": "markdown",
   "metadata": {},
   "source": [
    "**Your answers here**"
   ]
  },
  {
   "cell_type": "markdown",
   "metadata": {},
   "source": [
    "## Exercise 3: Calculating $\\Delta U$ \n",
    "---\n",
    "\n",
    "The Ball-and-Spring model of a solid represents the chemical bonds between atoms in a solid as \"spring-like\" quantum harmonic oscillators. \n",
    "\n",
    "https://www.glowscript.org/#/user/matterandinteractions/folder/matterandinteractions/program/12-wells-oscillator\n",
    "\n",
    "The energy of a single quantum in the harmonic oscillator model is:\n",
    "$$\n",
    "\\begin{align}\n",
    "\\Delta U &= 1\\text{ quantum}\\\\\n",
    "&= \\hbar \\omega\\\\\n",
    "&= \\hbar \\sqrt{\\dfrac{k_\\text{s}}{m}}\\\\\n",
    "&= \\hbar \\sqrt{\\dfrac{4k_\\text{s,bond}}{m}}\n",
    "\\end{align}\n",
    "$$\n",
    "$m$, in this case is the mass of a single atom and $k_\\text{s,bond}$ is the effective \"spring stiffness\" of the chemical bond between neighboring atoms. The factor of 4 comes from the fact that in each dimension, each atom has a bond on both sides (for a factor of 2) and each spring-like bond is \"cut-in-half\" with the other half servicing the neighboring atom (a second factor of two)---that is, atoms in the bulk of a solid will have a larger oscillation frequency than a simple diatomic molecule would have with an equivalent bond. Each atom is comprised of three of these quantum oscillators (x-, y-, and z-directions), though we've already taken this into account by setting $N=3N_\\text{atoms}$ in the multiplicity. \n",
    "\n",
    "But how can we calculate $k_\\text{s,bond}$? It turns out that the macroscopically observable **modulus of linear elasticity (Young's Modulus)** is a macroscopic manifestation of microscopic atomic bond strength and so we can use this to estimate $k_\\text{s,bond}$: \n",
    "$$\n",
    "Y = \\dfrac{\\text{stress}}{\\text{strain}} = \\dfrac{(F/A)}{(\\Delta L/L)}\n",
    "$$\n",
    "Rearranging to recreate the form of Hooke's law:\n",
    "$$\n",
    "\\begin{align}\n",
    "F &= \\left(\\dfrac{YA}{L}\\right)\\Delta L\\\\\n",
    "&= k_\\text{s}\\Delta L\n",
    "\\end{align}\n",
    "$$\n",
    "This is a macroscopic expression, but if we imagine zooming into the stretching of a single bond, then we can write\n",
    "$$\n",
    "\\begin{align}\n",
    "F &= \\left(\\dfrac{YA_\\text{atom}}{L_\\text{bond}}\\right)\\Delta L_\\text{bond}\\\\\n",
    "&= k_\\text{s,bond}\\Delta L_\\text{bond}\n",
    "\\end{align}\n",
    "$$\n",
    "So, one way to estimate the effective bond stiffness is to just multiply young's modulus by the cross-sectional area of the volume occupied by a single atom and then divide by the atomic diameter (or just simply multiply by the atomic diameter).\n",
    "\n",
    "**Use the values given below to calculate the bond stiffness and the magnitude of an energy quanta for both lead and aluminum. Then answer the following questions**"
   ]
  },
  {
   "cell_type": "code",
   "execution_count": null,
   "metadata": {},
   "outputs": [],
   "source": [
    "## Material Properties\n",
    "#Aluminum\n",
    "Y_Al = 68.9e9 #N/m^2\n",
    "density_Al= 2700 #kg/m^3\n",
    "atomic_mass_Al = 4.48e-26 #kg/atom\n",
    "\n",
    "#Lead\n",
    "Y_Pb = 16e9 #N/m^2\n",
    "density_Pb = 11340 #kg/m^3\n",
    "atomic_mass_Pb = 3.44e-25 #kg/atom\n",
    "\n",
    "#Your calculations"
   ]
  },
  {
   "cell_type": "markdown",
   "metadata": {},
   "source": [
    "* Do these material values comport with your knowledge that lead is heavy but \"soft\" while aluminum is comparatively light but hard?\n",
    "* In the code below, recreate your calculations of temperature (Exercise 2) to feature these new calculations of $\\Delta U$. You should end up with an array of temperature values for each material. \n",
    "* Does the equilibrium temperature depend on the material of the blocks? (Assume that both are the same material; You can try making one lead and one aluminum to see what happens but since these materials have different sized quanta, then the model's exchange of individual quanta would violate energy conservation.) \n",
    "* For each material, plot the temperature of block A as a function of $q_A$. These should all be in the same plot. Be sure to include proper labeling, etc. (You can ignore block B for this)."
   ]
  },
  {
   "cell_type": "markdown",
   "metadata": {},
   "source": [
    "**Your answers here**"
   ]
  },
  {
   "cell_type": "code",
   "execution_count": null,
   "metadata": {},
   "outputs": [],
   "source": [
    "# Your code here\n",
    "\n",
    "\n",
    "# Your plots here\n",
    "\n",
    "plt.plot() #Aluminum\n",
    "plt.plot() #Lead\n",
    "\n",
    "plt.title('')\n",
    "plt.xlabel('')\n",
    "plt.ylabel('')\n",
    "plt.legend()\n",
    "plt.show()"
   ]
  },
  {
   "cell_type": "markdown",
   "metadata": {},
   "source": [
    "## Exercise 4: Empirical Heat Capacity Data\n",
    "---\n",
    "\n",
    "In the next few parts, we'll model the heat capacity of both an aluminum block and a lead block and compare these models to real data. From here on out, **focus just on block A**, which we will take to be alternatively aluminum and lead. \n",
    "\n",
    "**Download the csv file of heat capacity data posted with this workbook and save this file in the same folder as this workbook.**\n",
    "\n",
    "If you cannot access this csv file, a copy is publicly available on GitHub\n",
    "https://github.com/QuantumBrandon/Statistical-Mechanics-Public/blob/master/SpecificHeatData.csv. \n",
    "\n",
    "You can download it manually or you can run the following code to download the csv file from GitHub and save it in the same folder as your Jupyter Notebook. "
   ]
  },
  {
   "cell_type": "code",
   "execution_count": null,
   "metadata": {},
   "outputs": [],
   "source": [
    "#Only run if you've not already downloaded the heat capacity csv\n",
    "import os\n",
    "from six.moves import urllib\n",
    "\n",
    "DOWNLOAD_ROOT = \"https://raw.githubusercontent.com/QuantumBrandon/Statistical-Mechanics-Public/master\"\n",
    "SPECIFICHEAT_URL = DOWNLOAD_ROOT + \"/SpecificHeatData.csv\"\n",
    "\n",
    "def fetch_heatcapacity_data(url = SPECIFICHEAT_URL):\n",
    "    if not os.path.isfile(\"SpecificHeatData.csv\"):\n",
    "        urllib.request.urlretrieve(url, \"SpecificHeatData.csv\")\n",
    "fetch_heatcapacity_data()"
   ]
  },
  {
   "cell_type": "markdown",
   "metadata": {},
   "source": [
    "Next, execute the following lines of code. (Note that these heat capacities are in units of joules per kelvin per mole)."
   ]
  },
  {
   "cell_type": "code",
   "execution_count": null,
   "metadata": {},
   "outputs": [],
   "source": [
    "import pandas as pd\n",
    "C_data = pd.read_csv('SpecificHeatData.csv', delimiter = ',')\n",
    "C_data"
   ]
  },
  {
   "cell_type": "code",
   "execution_count": null,
   "metadata": {},
   "outputs": [],
   "source": [
    "C_data_abr = C_data[['Temperature','C_Al', 'C_Pb']] #abr means abridged\n",
    "C_data_abr"
   ]
  },
  {
   "cell_type": "code",
   "execution_count": null,
   "metadata": {
    "scrolled": true
   },
   "outputs": [],
   "source": [
    "C_data_array = np.array(C_data_abr)\n",
    "C_data_array"
   ]
  },
  {
   "cell_type": "code",
   "execution_count": null,
   "metadata": {
    "scrolled": false
   },
   "outputs": [],
   "source": [
    "C_Lead_Plot = plt.plot(C_data_array[:,0], C_data_array[:,2],'o', label = 'Emperical Lead')\n",
    "C_Aluminum_Plot = plt.plot(C_data_array[:,0], C_data_array[:,1],'o', label = 'Emperical Aluminum')\n",
    "\n",
    "plt.title('Heat Capacity vs Temp')\n",
    "plt.xlabel('Temperature [K]')\n",
    "plt.ylabel('Heat Capacity [J/K*mol]')\n",
    "plt.legend()\n",
    "plt.show()"
   ]
  },
  {
   "cell_type": "markdown",
   "metadata": {},
   "source": [
    "## Exercise 5: Numerical Prediction of C\n",
    "---\n",
    "\n",
    "The definition of heat capacity is \n",
    "$$\n",
    "C = \\dfrac{\\Delta U}{\\Delta T}\n",
    "$$\n",
    "where, as with temperature, this is taken to be a ratio of finite differences.\n",
    "\n",
    "**Write code to calculate $C(T)$ for both Aluminum and Lead and plot these predictions against the empirical data.** \n",
    "\n",
    "Both plots should be on the same set of axes. Include title, axes labels, etc. As in your calculation of $T$, don't forget to keep track of your iteration range and that the ``plot`` function requires you to input arrays of equal length (or equal length slices of larger arrays).\n",
    "Some things to keep in mind:\n",
    "* You only need to consider one block gaining energy quanta, but repeat this for each material.\n",
    "* Your numerical predictions will have dimensions of heat capacity per ($N_\\text{oscillators}/3$) atoms but the empirical data has dimensions of heat capacity per mole; make sure that the dimensions of your model are consistent with the empirical data before plotting. (If you get lost in the unit conversion, pay attention to the y-axis).\n",
    "* Your \"bond spring stiffness\" is an estimation based on the material average; feel free to \"tune\" your prediction in order to better fit the empirical data. \n",
    "* If you would like to test this model against other materials, csv files attached to this set contain data for diamond and silicon. "
   ]
  },
  {
   "cell_type": "code",
   "execution_count": null,
   "metadata": {
    "scrolled": true
   },
   "outputs": [],
   "source": [
    "# Your code here\n",
    "\n",
    "\n",
    "# This code plots the emperical data\n",
    "C_data_Al = plt.plot(C_data_array[:,0], C_data_array[:,1], 'o', label = 'Emperical Al')\n",
    "C_data_Pb = plt.plot(C_data_array[:,0], C_data_array[:,2], 'o', label = 'Emperical Pb')\n",
    "\n",
    "plt.title('')\n",
    "plt.xlabel('')\n",
    "plt.ylabel('')\n",
    "plt.legend()\n",
    "plt.show()"
   ]
  },
  {
   "cell_type": "markdown",
   "metadata": {},
   "source": [
    "**Answer the following questions**\n",
    "\n",
    "* How well does the numerical model of the Einstein solid reproduce the empirical data? \n",
    "* How does this compare to the classical prediction ($C = 3N_\\text{A}k_\\text{B}$ for all monatomic solids, independent of temperature)? \n",
    "* What does this imply about the validity of the Einstein model of a solid? What are some aspects of the empirical data that don't seem to be captured by your model? What are some aspects of the physical situation that your model doesn't capture (at least as far as heat capacity goes)?"
   ]
  },
  {
   "cell_type": "markdown",
   "metadata": {},
   "source": [
    "**Your answer goes here**"
   ]
  },
  {
   "cell_type": "markdown",
   "metadata": {},
   "source": [
    "## Exercise 6: Analytic Predictions of C\n",
    "---\n",
    "\n",
    "You may have noticed that the numerical plot doesn't extend down close to zero; this is partly a limitation of keeping our values for $N$ and $q$ small enough that the combinatoric functions don't overload the processor. As an alternative, we can turn to the analytic solution for heat capacity of the Einstein solid:\n",
    "$$\n",
    "C(T) = 3N_\\text{A}k_\\text{B}\\dfrac{e^{\\hbar\\omega/k_\\text{B}T}}{\\left(e^{\\hbar\\omega/k_\\text{B}T} - 1\\right)^2}\\left(\\dfrac{\\hbar\\omega}{k_\\text{B}T}\\right)^2\n",
    "$$\n",
    "\n",
    "**Write code that does the following:**\n",
    "\n",
    "1. Write a function that takes as input $\\omega$ and $T$ and outputs a value for the heat capacity. \n",
    "2. Create an array of temperature values between 1 and 400 and input these into this heat capacity function along with the oscillation frequency for aluminum. \n",
    "3. Plot the analytic solution against both the empirical data for aluminum and the numerical model for aluminum. This plot should include appropriate labels, etc. "
   ]
  },
  {
   "cell_type": "code",
   "execution_count": null,
   "metadata": {},
   "outputs": [],
   "source": [
    "# Your code here.\n",
    "\n",
    "# Empirical Plot\n",
    "C_data_Al = plt.plot(C_data_array[:,0], C_data_array[:,1], 'o', label = 'Emperical Al Data')"
   ]
  },
  {
   "cell_type": "markdown",
   "metadata": {},
   "source": [
    "**Comment on these plots**\n",
    "\n",
    "what are some aspects of the emperical data thath don't seem to be captures by your model?"
   ]
  },
  {
   "cell_type": "code",
   "execution_count": null,
   "metadata": {},
   "outputs": [],
   "source": []
  }
 ],
 "metadata": {
  "kernelspec": {
   "display_name": "VPython",
   "language": "python",
   "name": "vpython"
  },
  "language_info": {
   "codemirror_mode": {
    "name": "ipython",
    "version": 2
   },
   "file_extension": ".py",
   "mimetype": "text/x-python",
   "name": "python",
   "nbconvert_exporter": "python",
   "pygments_lexer": "ipython2",
   "version": "2.7.16"
  }
 },
 "nbformat": 4,
 "nbformat_minor": 2
}
