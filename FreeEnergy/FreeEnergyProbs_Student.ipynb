{
 "cells": [
  {
   "cell_type": "code",
   "execution_count": 1,
   "id": "9dc9080b-dac1-44bc-a66b-38e1a737848c",
   "metadata": {},
   "outputs": [],
   "source": [
    "import numpy as np\n",
    "import matplotlib.pyplot as plt"
   ]
  },
  {
   "cell_type": "markdown",
   "id": "1975b062-2cb5-4cf6-8c5d-74efada5cbac",
   "metadata": {},
   "source": [
    "# Triple Point of Benzene\n",
    "This problem is Example 23.1 from *Physical Chemistry - A Molecular Approach* by McQuarrie and Simon.\n",
    "\n",
    "Experimentally determined vapor pressures of benzene have been found. For liquid benzene over the temperature range $273 < T < 300$ the vapor pressure in Torr is\n",
    "\n",
    "$$\\ln(P) = \\frac{-4110}{T} + 18.33$$\n",
    "\n",
    "The vapor pressure of solid benzene over the temperature range $250 < T < 280$ is\n",
    "\n",
    "$$\\ln(P) = \\frac{-5319}{T} + 22.67$$\n",
    "\n",
    "Plot pressure vs. temperature (**not $\\ln(P)$)** to visually determine the triple point, where solid, liquid, and gas coexist with equal free energies. \n",
    "* Create an array for the solid-gas temperature range based on how the liquid-gas temperature array is created.\n",
    "* Enter the code for calculating the vapor pressures."
   ]
  },
  {
   "cell_type": "code",
   "execution_count": null,
   "id": "022d9320-b6c9-4e92-b4ec-bc677f35a531",
   "metadata": {},
   "outputs": [],
   "source": [
    "TL = np.linspace(273, 300, 100) #temperature in K for liquid-gas vapor pressure\n",
    "TS =  #temperature in K for solid-gas vapor pressure\n",
    "PL = #pressure as a function of TL for liquid-gas vapor pressure\n",
    "PS = #pressure as a function of TL for solid-gas vapor pressure\n",
    "\n",
    "plt.plot(TL, PL, '-b', label='Liquid')\n",
    "plt.plot(TS, PS, '-.r', label='Solid')\n",
    "plt.xlabel('T (K)')\n",
    "plt.ylabel('P (torr)')\n",
    "plt.legend()\n",
    "plt.show()"
   ]
  },
  {
   "cell_type": "markdown",
   "id": "68700905-95f6-48d3-885c-84d7627c46ed",
   "metadata": {},
   "source": [
    "## Numerical Solution\n",
    "We can solve for where the two vapor pressures are equal to find the triple point. Algebraically, we set the two pressure equations equal to one another and solve for $T$.\n",
    "\n",
    "$$\\frac{-4110}{T} + 18.33 = \\frac{5319}{T} + 22.67$$\n",
    "\n",
    "You should solve this by hand first.\n",
    "\n",
    "Using Jupyter, we can use a library called `sympy`. We need to import the following\n",
    "\n",
    "```python\n",
    "from sympy.solvers import solve\n",
    "from sympy import Symbol\n",
    "```\n",
    "\n",
    "The first import is a numerical equation solver. The second import allows us to create symbols that represent variables to be solved. In this case, we want to solve for $T$, but we will call it `x`. Defining a symbol is done like this\n",
    "\n",
    "```python\n",
    "x = Symbol('x')\n",
    "```\n",
    "\n",
    "Then, we solve the equation we have above, but the trick is to rearrange it so that everything is on the left hand side, and the right hand side is zero. Do this rearrangement, and then, insert it into the `solve` line below.\n",
    "\n",
    "```python\n",
    "solve(LHS equation, x)\n",
    "```"
   ]
  },
  {
   "cell_type": "code",
   "execution_count": null,
   "id": "a9cc8ab4-1b58-48cc-81e1-40609bca3e35",
   "metadata": {},
   "outputs": [],
   "source": [
    "from sympy.solvers import solve\n",
    "from sympy import Symbol\n",
    "x = Symbol('x')\n",
    "solve()"
   ]
  },
  {
   "cell_type": "markdown",
   "id": "2ad05b75-f049-45aa-b84e-b84f7cdca795",
   "metadata": {},
   "source": [
    "# Problem 5.23 Schroeder\n",
    "Go through the arithmetic to verify that diamond becomes more stable than graphite at approximately 15 kbar.\n",
    "\n",
    "Energies are relative. Therefore, we can set the graphite $G_g = 0$ at atmospheric pressure. The diamond Gibbs energy is $G_d = 2900$ Joules. Assuming constant temperature and number of carbon atoms,\n",
    "\n",
    "$$\\left(\\frac{\\partial G}{\\partial P}\\right)_{T,N}=V$$\n",
    "\n",
    "or the slope of the $G$ vs. $P$ graph is volume. At a particular pressure, each carbon structure will have a Gibbs energy\n",
    "\n",
    "$$G = V P + G_o$$\n",
    "\n",
    "and the difference in Gibbs energy is zero when the two structures are equally likely. This occurs when\n",
    "\n",
    "$$\\begin{align}\n",
    "\\Delta G &= 0\\\\\n",
    "G_g-G_d &= 0\\\\\n",
    "\\left(V_g P + 0\\right) - \\left(V_d P + 2900\\right) &= 0\\\\\n",
    "\\end{align}$$\n",
    "\n",
    "From the back of the book, $V_g = 5.3~\\text{cm}^3$ and $V_d = 3.42~\\text{cm}^3$. \n",
    "\n",
    "$$P = \\frac{2900}{V_g-V_d}$$\n",
    "\n",
    "* Enter this calculation below inside the print statement."
   ]
  },
  {
   "cell_type": "code",
   "execution_count": null,
   "id": "daf4f411-a49c-4589-8c50-c8165df1c2e0",
   "metadata": {},
   "outputs": [],
   "source": [
    "print() #divide by 1e5 to get bar"
   ]
  },
  {
   "cell_type": "markdown",
   "id": "fdaa9d8a-1193-4446-96f8-d47e109d3061",
   "metadata": {},
   "source": [
    "# Problem 5.27 Shroeder\n",
    "Graphite is more compressible than diamond. \n",
    "* Taking compressibility into account, would you expect the transition from graphite to diamond to occur at higher or lower pressure than predicted above?\n",
    "* The isothermal compressibility of graphite is about $\\kappa_T = \\times 10^{-6}~\\text{bar}^{-1}$, while that of diamond is more than ten times less and hence negligible in comparison. (Isothermal compressibility is the fractional reduction in volume per unit increase in pressure, as defined in problem 1.46.) Use this information to make a revised estimate of the pressure at which diamond becomes more stable than graphite (at room temperature).\n",
    "\n",
    "Compressibility is defined as\n",
    "\n",
    "$$\\kappa_T = -\\frac{1}{V}\\left(\\frac{\\partial V}{\\partial P}\\right)_T$$\n",
    "\n",
    "which we will assume is constant with presssure. We can rearrange to see\n",
    "\n",
    "$$\\left(\\frac{\\partial V}{\\partial P}\\right)_T = -V\\kappa_T$$\n",
    "\n",
    "Using this, we can write an equation to describe volume changes as a function of pressure.\n",
    "\n",
    "$$V(P) = V_o - \\frac{\\partial V}{\\partial P}\\cdot P = V_o - \\kappa_T VP$$\n",
    "\n",
    "Recall that the Gibbs energy changes with pressure \n",
    "\n",
    "$$\\left(\\frac{\\partial G}{\\partial P}\\right)_{T,N} = V$$ \n",
    "\n",
    "or\n",
    "\n",
    "$$\\left(\\frac{\\partial G}{\\partial P}\\right)_{T,N} = V_o - \\kappa_T VP$$\n",
    "\n",
    "We can rearrange and integrate this equation\n",
    "\n",
    "$$\\begin{align}\n",
    "dG &= \\left(V_o - \\kappa_T VP\\right) dP\\\\\n",
    "\\int dG &= \\int \\left(V_o - \\kappa_T VP\\right) dP\\\\\n",
    "G &= V_o P - \\frac{1}{2} \\kappa_T VP^2\n",
    "\\end{align}$$\n",
    "\n",
    "Since the last term is negative, the slope of graphite's Gibbs energy will be smaller. Looking at figure 5.15, we see that this will push the crossing point to larger pressures.\n",
    "\n",
    "We can now solve for the pressure where the two Gibbs energies are equal, similar to problem 5.24. However, we now have a quadratic. We can use the `sympy` solver again."
   ]
  },
  {
   "cell_type": "code",
   "execution_count": null,
   "id": "1019480b-c36f-4ad4-b0cd-d74d12ad132d",
   "metadata": {},
   "outputs": [],
   "source": [
    "solve()"
   ]
  },
  {
   "cell_type": "markdown",
   "id": "ac419f6b-84fb-4d06-876a-c35a9c26f77d",
   "metadata": {},
   "source": [
    "The second solution (higher pressure) is where the quadratic turns over and comes back down. This is an invalid solution.\n",
    "\n",
    "Let's plot the Gibbs vs. pressure to visualize the solution.\n",
    "* Enter the code for calculating the Gibbs energies of graphite and diamond."
   ]
  },
  {
   "cell_type": "code",
   "execution_count": 21,
   "id": "d3955bc7-570e-4038-9d02-9f3d52e73c79",
   "metadata": {},
   "outputs": [
    {
     "data": {
      "image/png": "[encoded data removed]",
      "text/plain": [
       "<Figure size 640x480 with 1 Axes>"
      ]
     },
     "metadata": {},
     "output_type": "display_data"
    }
   ],
   "source": [
    "P = np.linspace(10e8, 25e8, 1000)\n",
    "Gg = \n",
    "Gd = \n",
    "plt.plot(P/1e5, Gg, '-b', label='graphite')\n",
    "plt.plot(P/1e5, Gd, '-.r', label='diamond')\n",
    "plt.xlabel('Pressure (bar)')\n",
    "plt.ylabel ('Gibbs (Joules)')\n",
    "plt.legend()\n",
    "plt.show()"
   ]
  },
  {
   "cell_type": "code",
   "execution_count": null,
   "id": "500e34ce-fa9c-4a9d-8829-90457579519e",
   "metadata": {},
   "outputs": [],
   "source": []
  }
 ],
 "metadata": {
  "kernelspec": {
   "display_name": "Python 3 (ipykernel)",
   "language": "python",
   "name": "python3"
  },
  "language_info": {
   "codemirror_mode": {
    "name": "ipython",
    "version": 3
   },
   "file_extension": ".py",
   "mimetype": "text/x-python",
   "name": "python",
   "nbconvert_exporter": "python",
   "pygments_lexer": "ipython3",
   "version": "3.8.12"
  }
 },
 "nbformat": 4,
 "nbformat_minor": 5
}
